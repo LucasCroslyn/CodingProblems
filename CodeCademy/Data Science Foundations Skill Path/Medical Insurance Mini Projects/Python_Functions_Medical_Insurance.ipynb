{
 "cells": [
  {
   "cell_type": "markdown",
   "metadata": {},
   "source": [
    "# Python Functions: Medical Insurance Project"
   ]
  },
  {
   "cell_type": "markdown",
   "metadata": {},
   "source": [
    "### Description"
   ]
  },
  {
   "cell_type": "markdown",
   "metadata": {},
   "source": [
    "You are curious about how certain factors such as age, sex, BMI, number of children, and smoking status contribute to medical insurance costs.\n",
    "\n",
    "Note: while insurance companies do use BMI in their calculations, and that is reflected in this project, BMI is not necessarily an accurate predictor of health. As data scientists, we should always be skeptical of quantitative measures like BMI that reduce complex phenomena to a single number.\n",
    "\n",
    "You will apply your new knowledge of Python functions to write a useful function that calculates medical insurance costs."
   ]
  },
  {
   "cell_type": "markdown",
   "metadata": {},
   "source": [
    "### Creating a Function"
   ]
  },
  {
   "cell_type": "markdown",
   "metadata": {},
   "source": [
    "1. First, take a look at the code in the below cell block\n",
    "\n",
    "In this code, we estimate the medical insurance costs for two individuals, Maria and Omar, based on five variables:\n",
    "- `age`: age of the individual in years\n",
    "- `sex`: 0 for female, 1 for male\n",
    "- `bmi`: individual's body mass index\n",
    "- `num_of_children`: number of children the individual has\n",
    "- `smoker`: 0 for a non-smoker, 1 for a smoker\n",
    "\n",
    "These variables are used in the following formula to estimate an individual's insurance cost (in USD):\n",
    "\n",
    "$$\n",
    "insurance\\_cost = 250*age - 128*sex \\\\\n",
    "+ 370*bmi + 425*num\\_of\\_children \\\\\n",
    "+ 24000*smoker - 12500 \\\\\n",
    "$$"
   ]
  },
  {
   "cell_type": "code",
   "execution_count": 1,
   "metadata": {},
   "outputs": [
    {
     "name": "stdout",
     "output_type": "stream",
     "text": [
      "The estimated insurance cost for Maria is 5469.0 dollars.\n",
      "The estimated insurance cost for Omar is 28336.0 dollars.\n"
     ]
    }
   ],
   "source": [
    "# Initial variables for Maria \n",
    "age = 28\n",
    "sex = 0  \n",
    "bmi = 26.2\n",
    "num_of_children = 3\n",
    "smoker = 0  \n",
    "\n",
    "# Estimate Maria's insurance cost\n",
    "insurance_cost = 250*age - 128*sex + 370*bmi + 425*num_of_children + 24000*smoker - 12500\n",
    "\n",
    "print(\"The estimated insurance cost for Maria is \" + str(insurance_cost) + \" dollars.\")\n",
    "\n",
    "# Initial variables for Omar\n",
    "age = 35\n",
    "sex = 1 \n",
    "bmi = 22.2\n",
    "num_of_children = 0\n",
    "smoker = 1  \n",
    "\n",
    "# Estimate Omar's insurance cost \n",
    "insurance_cost = 250*age - 128*sex + 370*bmi + 425*num_of_children + 24000*smoker - 12500\n",
    "\n",
    "print(\"The estimated insurance cost for Omar is \" + str(insurance_cost) + \" dollars.\")"
   ]
  },
  {
   "cell_type": "markdown",
   "metadata": {},
   "source": [
    "2. The code used to estimate insurance costs for Maria and Omar looks quite similar – in both cases we calculate the insurance cost using the same formula and then print the output.\n",
    "\n",
    "    This code is a great candidate for a function because it involves repeating almost identical commands in multiple places.\n",
    "\n",
    "    Let’s start by defining a function called `calculate_insurance_cost()`. For now, your function should not have any parameters or output."
   ]
  },
  {
   "cell_type": "code",
   "execution_count": 2,
   "metadata": {},
   "outputs": [
    {
     "ename": "SyntaxError",
     "evalue": "incomplete input (4162971614.py, line 1)",
     "output_type": "error",
     "traceback": [
      "\u001b[1;36m  Cell \u001b[1;32mIn[2], line 1\u001b[1;36m\u001b[0m\n\u001b[1;33m    def calculate_insurance_cost():\u001b[0m\n\u001b[1;37m                                   ^\u001b[0m\n\u001b[1;31mSyntaxError\u001b[0m\u001b[1;31m:\u001b[0m incomplete input\n"
     ]
    }
   ],
   "source": [
    "# The error is expected given what the step above is asking\n",
    "def calculate_insurance_cost():"
   ]
  },
  {
   "cell_type": "markdown",
   "metadata": {},
   "source": [
    "3. Let's outline the behavior we want our function to have. Inside of `calculate_insurance_cost()`, do the following:\n",
    "- Create a variable called `estimated_cost`. For now, set this equal to a value of `1000`. You'll add the full formula in the next step.\n",
    "- Add a print statement that prints `estimated_cost`. You should output a message similar to: `\"The estimated insurance cost for this person is xxx dollars.\"`\n",
    "- Return `estimated_cost`"
   ]
  },
  {
   "cell_type": "code",
   "execution_count": 9,
   "metadata": {},
   "outputs": [],
   "source": [
    "def calculate_insurance_cost():\n",
    "    estimated_cost = 1000\n",
    "    print(f\"The estimated insurance cost for this person is {estimated_cost} dollars.\")\n",
    "    return estimated_cost"
   ]
  },
  {
   "cell_type": "markdown",
   "metadata": {},
   "source": [
    "### Adding parameters to a function"
   ]
  },
  {
   "cell_type": "markdown",
   "metadata": {},
   "source": [
    "4. You've created a simple Python function that we'll use to estimate medical insurance costs.\n",
    "\n",
    "    However, the function currently returns a value of `1000`. We want it to return our insurance cost formula instead.\n",
    "\n",
    "    Modify the function definition so that it contains five parameters:\n",
    "\n",
    "   - `age`\n",
    "   - `sex`\n",
    "   - `bmi`\n",
    "   - `num_of_children`\n",
    "   - `smoker`"
   ]
  },
  {
   "cell_type": "code",
   "execution_count": 11,
   "metadata": {},
   "outputs": [
    {
     "ename": "SyntaxError",
     "evalue": "incomplete input (1941762526.py, line 2)",
     "output_type": "error",
     "traceback": [
      "\u001b[1;36m  Cell \u001b[1;32mIn[11], line 2\u001b[1;36m\u001b[0m\n\u001b[1;33m    def calculate_insurance_cost(age, sex, bmi, num_of_children, smoker):\u001b[0m\n\u001b[1;37m                                                                         ^\u001b[0m\n\u001b[1;31mSyntaxError\u001b[0m\u001b[1;31m:\u001b[0m incomplete input\n"
     ]
    }
   ],
   "source": [
    "# This is the only part for this step\n",
    "def calculate_insurance_cost(age, sex, bmi, num_of_children, smoker):"
   ]
  },
  {
   "cell_type": "markdown",
   "metadata": {},
   "source": [
    "5. Now that we have set up the function to take inputs for each of the values needed in the insurance formula, we can make use of them inside of our function.\n",
    "\n",
    "    In `calculate_insurance_cost()`, change the value of `estimate_cost` from `1000` to our formula for insurance cost.\n",
    "\n",
    "    Remember that the formula for insurance cost is:\n",
    "\n",
    "$$\n",
    "250*age - 128*sex \\\\\n",
    "+ 370*bmi + 425*num\\_of\\_children \\\\\n",
    "+ 24000*smoker - 12500 \\\\\n",
    "$$"
   ]
  },
  {
   "cell_type": "code",
   "execution_count": 12,
   "metadata": {},
   "outputs": [],
   "source": [
    "def calculate_insurance_cost(age, sex, bmi, num_of_children, smoker):\n",
    "    estimated_cost = 250*age - 128*sex + 370*bmi + 425*num_of_children + 24000*smoker - 12500\n",
    "    print(f\"The estimated insurance cost for this person is {estimated_cost} dollars.\")\n",
    "    return estimated_cost"
   ]
  },
  {
   "cell_type": "markdown",
   "metadata": {},
   "source": [
    "### Calling a function"
   ]
  },
  {
   "cell_type": "markdown",
   "metadata": {},
   "source": [
    "6. The function is now properly set up to calculate an individual's medical insurance costs based on the five variables passed into it. Let's test this out!\n",
    "\n",
    "    Go to the section of code that estimates Maria's insurance cost. (This is from step1 at the very top)\n",
    "\n",
    "    Rename `insurance_cost` as `maria_insurance_cost` and set it equal to `calculate_insurance_cost()` with the appropiate values for `Maria` as arguments."
   ]
  },
  {
   "cell_type": "code",
   "execution_count": 14,
   "metadata": {},
   "outputs": [
    {
     "name": "stdout",
     "output_type": "stream",
     "text": [
      "The estimated insurance cost for Maria is 5469.0 dollars.\n",
      "The estimated insurance cost for this person is 5469.0 dollars.\n"
     ]
    }
   ],
   "source": [
    "# The relevant part of the code from step 1 (which will be commented out)\n",
    "\"\"\"\n",
    "# Initial variables for Maria \n",
    "age = 28\n",
    "sex = 0  \n",
    "bmi = 26.2\n",
    "num_of_children = 3\n",
    "smoker = 0  \n",
    "\n",
    "# Estimate Maria's insurance cost\n",
    "insurance_cost = 250*age - 128*sex + 370*bmi + 425*num_of_children + 24000*smoker - 12500\n",
    "\n",
    "print(\"The estimated insurance cost for Maria is \" + str(insurance_cost) + \" dollars.\")\n",
    "\"\"\"\n",
    "\n",
    "# New line of code\n",
    "maria_insurance_cost = calculate_insurance_cost(28, 0, 26.2, 3, 0)"
   ]
  },
  {
   "cell_type": "markdown",
   "metadata": {},
   "source": [
    "7. Now remove the print statement for Maria since our function will take care of printing the estimated cost for us\n",
    "    \n",
    "    Additionally, remove the five lines of code defining the initial variables for Maria, as we are now passing in these values directly in the function call."
   ]
  },
  {
   "cell_type": "markdown",
   "metadata": {},
   "source": [
    "Nothing really needs to be done, just will not have those lines in further code blocks"
   ]
  },
  {
   "cell_type": "markdown",
   "metadata": {},
   "source": [
    "8. Repeat steps 6-7 for Omar:\n",
    "    \n",
    "   - Rename `insurance_cost` as `omar_insurance_cost` and set it equal to the `calculate_insurance_cost()` function, passing in the appropriate values as arguments.\n",
    "   - Remove the initial variables and print statement for Omar. "
   ]
  },
  {
   "cell_type": "code",
   "execution_count": 15,
   "metadata": {},
   "outputs": [
    {
     "name": "stdout",
     "output_type": "stream",
     "text": [
      "The estimated insurance cost for this person is 28336.0 dollars.\n"
     ]
    }
   ],
   "source": [
    "# The relevant part of the code from step 1 (which will be commented out)\n",
    "\"\"\"\n",
    "# Initial variables for Omar\n",
    "age = 35\n",
    "sex = 1 \n",
    "bmi = 22.2\n",
    "num_of_children = 0\n",
    "smoker = 1  \n",
    "\n",
    "# Estimate Omar's insurance cost \n",
    "insurance_cost = 250*age - 128*sex + 370*bmi + 425*num_of_children + 24000*smoker - 12500\n",
    "\n",
    "print(\"The estimated insurance cost for Omar is \" + str(insurance_cost) + \" dollars.\")\n",
    "\"\"\"\n",
    "\n",
    "omar_insurance_cost = calculate_insurance_cost(35, 1, 22.2, 0, 1)"
   ]
  },
  {
   "cell_type": "markdown",
   "metadata": {},
   "source": [
    "### Adding new parameters"
   ]
  },
  {
   "cell_type": "markdown",
   "metadata": {},
   "source": [
    "9. In the outputs, notice that it says `\"The estimated insurance cost for this person is...\"` bit it does not specify the actual name of the person.\n",
    "\n",
    "    To fix this, begin by adding an additional paramets called `name` to the function definition."
   ]
  },
  {
   "cell_type": "code",
   "execution_count": 16,
   "metadata": {},
   "outputs": [],
   "source": [
    "def calculate_insurance_cost(name, age, sex, bmi, num_of_children, smoker):\n",
    "    estimated_cost = 250*age - 128*sex + 370*bmi + 425*num_of_children + 24000*smoker - 12500\n",
    "    print(f\"The estimated insurance cost for this person is {estimated_cost} dollars.\")\n",
    "    return estimated_cost"
   ]
  },
  {
   "cell_type": "markdown",
   "metadata": {},
   "source": [
    "10. Next, modify the print statement in the function so that it includes the new `name` parameter, replacing `\"this person\"` with the actual name of the person."
   ]
  },
  {
   "cell_type": "code",
   "execution_count": 17,
   "metadata": {},
   "outputs": [],
   "source": [
    "def calculate_insurance_cost(name, age, sex, bmi, num_of_children, smoker):\n",
    "    estimated_cost = 250*age - 128*sex + 370*bmi + 425*num_of_children + 24000*smoker - 12500\n",
    "    print(f\"The estimated insurance cost for {name} is {estimated_cost} dollars.\")\n",
    "    return estimated_cost"
   ]
  },
  {
   "cell_type": "markdown",
   "metadata": {},
   "source": [
    "11. We must also update our function calls, passing in the `name` variable as an argument.\n",
    "\n",
    "    Update the function call for `maria_insurance_cost`, passing in `name = \"Maria\"` as an argument.\n",
    "\n",
    "    Do the same for Omar, passing in `name = \"Omar\"`."
   ]
  },
  {
   "cell_type": "code",
   "execution_count": 18,
   "metadata": {},
   "outputs": [
    {
     "name": "stdout",
     "output_type": "stream",
     "text": [
      "The estimated insurance cost for Maria is 5469.0 dollars.\n",
      "The estimated insurance cost for Omar is 28336.0 dollars.\n"
     ]
    }
   ],
   "source": [
    "maria_insurance_cost = calculate_insurance_cost(name=\"Maria\", age=28, sex=0, bmi=26.2, num_of_children=3, smoker=0)\n",
    "omar_insurance_cost = calculate_insurance_cost(name=\"Omar\", age=35, sex=1, bmi=22.2, num_of_children=0, smoker=1)"
   ]
  },
  {
   "cell_type": "markdown",
   "metadata": {},
   "source": [
    "12. In this example, we calculated the insurance costs for two individuals, but with our new code we can easily extend this to thousands or even millions of individuals.\n",
    "\n",
    "    To illustrate, estimate your own insurance cost. Create a new insurance_cost variable for yourself, similar to how we did it for Maria and Omar.\n",
    "\n",
    "    Set the variable equal to a function call to `calculate_insurance_cost()`, passing in your own name, age, sex, bmi, number of children, and smoker status."
   ]
  },
  {
   "cell_type": "code",
   "execution_count": 19,
   "metadata": {},
   "outputs": [
    {
     "name": "stdout",
     "output_type": "stream",
     "text": [
      "The estimated insurance cost for Lucas is 2150.0 dollars.\n"
     ]
    }
   ],
   "source": [
    "lucas_insurance_cost = calculate_insurance_cost(name=\"Lucas\", age=23, sex=1, bmi=24.4, num_of_children=0, smoker=0)"
   ]
  },
  {
   "cell_type": "markdown",
   "metadata": {},
   "source": [
    "13. If you'd like extra practice, here are some suggestions to get you started:\n",
    "\n",
    "    - Modify the `calculate_insurance_cost()` function so that it returns two values - the output message and the estimated cost.\n",
    "    - Create a second function to calculate the difference between the insurance costs (given as inputs) of any two individuals and print a statement saying: `\"The difference in insurance cost is xxx dollars.\"`"
   ]
  },
  {
   "cell_type": "code",
   "execution_count": 21,
   "metadata": {},
   "outputs": [
    {
     "name": "stdout",
     "output_type": "stream",
     "text": [
      "The estimated insurance cost for Maria is 5469.0 dollars.\n",
      "The estimated insurance cost for Omar is 28336.0 dollars.\n",
      "The difference in insurance cost is 22867.0 dollars.\n"
     ]
    }
   ],
   "source": [
    "def calculate_insurance_cost(name, age, sex, bmi, num_of_children, smoker):\n",
    "    estimated_cost = 250*age - 128*sex + 370*bmi + 425*num_of_children + 24000*smoker - 12500\n",
    "    output_message = \"The estimated insurance cost for \" + name + \" is \" + str(estimated_cost) + \" dollars.\"\n",
    "    return output_message, estimated_cost\n",
    "\n",
    "def calculate_difference_insurance(insurance1, insurance2):\n",
    "    difference = insurance2 - insurance1\n",
    "    print(f\"The difference in insurance cost is {difference} dollars.\")\n",
    "\n",
    "maria_output, maria_insurance_cost = calculate_insurance_cost(name=\"Maria\", age=28, sex=0, bmi=26.2, num_of_children=3, smoker=0)\n",
    "omar_output, omar_insurance_cost = calculate_insurance_cost(name=\"Omar\", age=35, sex=1, bmi=22.2, num_of_children=0, smoker=1)\n",
    "print(maria_output)\n",
    "print(omar_output)\n",
    "calculate_difference_insurance(maria_insurance_cost, omar_insurance_cost) "
   ]
  }
 ],
 "metadata": {
  "kernelspec": {
   "display_name": ".venv",
   "language": "python",
   "name": "python3"
  },
  "language_info": {
   "codemirror_mode": {
    "name": "ipython",
    "version": 3
   },
   "file_extension": ".py",
   "mimetype": "text/x-python",
   "name": "python",
   "nbconvert_exporter": "python",
   "pygments_lexer": "ipython3",
   "version": "3.12.1"
  }
 },
 "nbformat": 4,
 "nbformat_minor": 2
}
