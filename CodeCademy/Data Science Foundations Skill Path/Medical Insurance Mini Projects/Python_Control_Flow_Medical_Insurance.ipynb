{
 "cells": [
  {
   "cell_type": "markdown",
   "metadata": {},
   "source": [
    "# Python Control Flow: Medical Insurance Project"
   ]
  },
  {
   "cell_type": "markdown",
   "metadata": {},
   "source": [
    "### Description"
   ]
  },
  {
   "cell_type": "markdown",
   "metadata": {},
   "source": [
    "In this project, you will examine how factors such as age, sex, number of children, and smoking status contribute to medical insurance costs.\n",
    "\n",
    "You will apply your knowledge of Python control flow to write code that gives people advice on how to lower their medical insurance costs."
   ]
  },
  {
   "cell_type": "markdown",
   "metadata": {},
   "source": [
    "### Intro to Control Flow"
   ]
  },
  {
   "cell_type": "markdown",
   "metadata": {},
   "source": [
    "1. First, take a look at the code in the below cell block\n",
    "\n",
    "    The function `estimate_insurance_Cost()` estimates the medical insurance cost for an individual, based on four variables:\n",
    "\n",
    "    - `age`: age of the individual in years\n",
    "    - `sex`: 0 for female, 1 for male\n",
    "    - `num_of_children`: number of children the individual has\n",
    "    - `smoker`: 0 for a non-smoker, 1 for smoker\n",
    "\n",
    "    These variables are used in the following formula to estimate an individual's insurance cost:\n",
    "\n",
    "    $$\n",
    "    insurance\\_cost = 400*age - 128*sex \\\\\n",
    "    + 425*num\\_of\\_children \\\\\n",
    "    + 10000*smoker - 2500 \\\\\n",
    "    $$"
   ]
  },
  {
   "cell_type": "code",
   "execution_count": 1,
   "metadata": {},
   "outputs": [
    {
     "name": "stdout",
     "output_type": "stream",
     "text": [
      "Keanu's Estimated Insurance Cost: 20247 dollars.\n"
     ]
    }
   ],
   "source": [
    "# Function to estimate insurance cost:\n",
    "def estimate_insurance_cost(name, age, sex, num_of_children, smoker):\n",
    "  estimated_cost = 400*age - 128*sex + 425*num_of_children + 10000*smoker - 2500\n",
    "  print(name + \"'s Estimated Insurance Cost: \" + str(estimated_cost) + \" dollars.\")\n",
    "  return estimated_cost\n",
    " \n",
    "# Estimate Keanu's insurance cost\n",
    "keanu_insurance_cost = estimate_insurance_cost(name = 'Keanu', age = 29, sex = 1, num_of_children = 3, smoker = 1)"
   ]
  },
  {
   "cell_type": "markdown",
   "metadata": {},
   "source": [
    "2. Currently, the function prints out the estimated insurance cost based on the values passed into the function. But it doesn't do much beyond that.\n",
    "\n",
    "    It would be much more helpful if our function could provide more insight into how we can lower our insurance cost. We'll do exactly that by using control flow - `if`, `elif`, and `else` statements - in our code."
   ]
  },
  {
   "cell_type": "markdown",
   "metadata": {},
   "source": [
    "### Analyzing Smoker Status"
   ]
  },
  {
   "cell_type": "markdown",
   "metadata": {},
   "source": [
    "3. In general, insurance costs are higher for smokers. We can use data from our `smoker` variable to provide advice on how to lower insurance costs.\n",
    "\n",
    "    Let's create a function that analyzes an individual's smoking status\n",
    "\n",
    "    Define a function called `analyze_smoker()` that takes an input `smoker_status`. For now, the  function should print `smoker_status`."
   ]
  },
  {
   "cell_type": "code",
   "execution_count": 2,
   "metadata": {},
   "outputs": [],
   "source": [
    "def analyze_smoker(smoker_status):\n",
    "    print(smoker_status)"
   ]
  },
  {
   "cell_type": "markdown",
   "metadata": {},
   "source": [
    "4. Inside of the `analyze_smoker()` function, replace the print statement from the previous step with an `if/else` statement that does the following:\n",
    "\n",
    "    - If `smoker_status` is equal to `1`, print `\"To lower your cost, you should consider quitting smoking.\"`\n",
    "    - Otherwise, print `\"Smoking is not an issue for you.\"`"
   ]
  },
  {
   "cell_type": "code",
   "execution_count": 4,
   "metadata": {},
   "outputs": [],
   "source": [
    "def analyze_smoker(smoker_status):\n",
    "    if smoker_status == 1:\n",
    "        print(\"To lower your cost, you should consider quitting smoking.\")\n",
    "    else:\n",
    "        print(\"Smoking is not an issue for you.\")"
   ]
  },
  {
   "cell_type": "markdown",
   "metadata": {},
   "source": [
    "5. Now that the `analyze_smoker()` function is written, let's make use of it.\n",
    "\n",
    "    In the `estimate_insurance_cost()` function, go to the line of code that prints the estimated insurance cost. On the next line, make a function call to `analyze_smoker()`, passing in the `smoker` variable as an argument."
   ]
  },
  {
   "cell_type": "code",
   "execution_count": 5,
   "metadata": {},
   "outputs": [
    {
     "name": "stdout",
     "output_type": "stream",
     "text": [
      "Keanu's Estimated Insurance Cost: 20247 dollars.\n",
      "To lower your cost, you should consider quitting smoking.\n"
     ]
    }
   ],
   "source": [
    "def estimate_insurance_cost(name, age, sex, num_of_children, smoker):\n",
    "  estimated_cost = 400*age - 128*sex + 425*num_of_children + 10000*smoker - 2500\n",
    "  print(name + \"'s Estimated Insurance Cost: \" + str(estimated_cost) + \" dollars.\")\n",
    "  analyze_smoker(smoker)\n",
    "  return estimated_cost\n",
    " \n",
    "keanu_insurance_cost = estimate_insurance_cost(name = 'Keanu', age = 29, sex = 1, num_of_children = 3, smoker = 1)"
   ]
  },
  {
   "cell_type": "markdown",
   "metadata": {},
   "source": [
    "### Analyze your own insurance cost"
   ]
  },
  {
   "cell_type": "markdown",
   "metadata": {},
   "source": [
    "6. Now that we've estimated and analyzed Keanu's insurance cost, let's see if we can do the same for our own.\n",
    "\n",
    "    Create a new insurance cost variable for yourself, similar to how we did it for Keanu.\n",
    "\n",
    "    Set the variable equal to a function call to `estimate_insurance_cost()`, passing in your own age, sex, number of children, and smoker status."
   ]
  },
  {
   "cell_type": "code",
   "execution_count": 6,
   "metadata": {},
   "outputs": [
    {
     "name": "stdout",
     "output_type": "stream",
     "text": [
      "Lucas's Estimated Insurance Cost: 6572 dollars.\n",
      "Smoking is not an issue for you.\n"
     ]
    }
   ],
   "source": [
    "lucas_insurance_cost = estimate_insurance_cost(name=\"Lucas\", age = 23, sex = 1, num_of_children=0, smoker=0)"
   ]
  }
 ],
 "metadata": {
  "kernelspec": {
   "display_name": ".venv",
   "language": "python",
   "name": "python3"
  },
  "language_info": {
   "codemirror_mode": {
    "name": "ipython",
    "version": 3
   },
   "file_extension": ".py",
   "mimetype": "text/x-python",
   "name": "python",
   "nbconvert_exporter": "python",
   "pygments_lexer": "ipython3",
   "version": "3.12.1"
  }
 },
 "nbformat": 4,
 "nbformat_minor": 2
}
