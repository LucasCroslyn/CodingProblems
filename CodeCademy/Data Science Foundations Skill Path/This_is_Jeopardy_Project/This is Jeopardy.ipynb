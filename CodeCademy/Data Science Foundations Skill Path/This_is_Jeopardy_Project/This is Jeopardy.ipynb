{
 "cells": [
  {
   "cell_type": "markdown",
   "metadata": {},
   "source": [
    "# This is Jeopardy!"
   ]
  },
  {
   "cell_type": "markdown",
   "metadata": {},
   "source": [
    "#### Overview"
   ]
  },
  {
   "cell_type": "markdown",
   "metadata": {},
   "source": [
    "This project is slightly different than others you have encountered thus far. Instead of a step-by-step tutorial, this project contains a series of open-ended requirements which describe the project you'll be building. There are many possible ways to correctly fulfill all of these requirements, and you should expect to use the internet, Codecademy, and/or other resources when you encounter a problem that you cannot easily solve."
   ]
  },
  {
   "cell_type": "markdown",
   "metadata": {},
   "source": [
    "#### Project Goals"
   ]
  },
  {
   "cell_type": "markdown",
   "metadata": {},
   "source": [
    "You will work to write several functions that investigate a dataset of _Jeopardy!_ questions and answers. Filter the dataset for topics that you're interested in, compute the average difficulty of those questions, and train to become the next Jeopardy champion!"
   ]
  },
  {
   "cell_type": "markdown",
   "metadata": {},
   "source": [
    "## Project Requirements"
   ]
  },
  {
   "cell_type": "markdown",
   "metadata": {},
   "source": [
    "1. We've provided a csv file containing data about the game show _Jeopardy!_ in a file named `jeopardy.csv`. Load the data into a DataFrame and investigate its contents. Try to print out specific columns.\n",
    "\n",
    "   Note that in order to make this project as \"real-world\" as possible, we haven't modified the data at all - we're giving it to you exactly how we found it. As a result, this data isn't as \"clean\" as the datasets you normally find on Codecademy. More specifically, there's something odd about the column names. After you figure out the problem with the column names, you may want to rename them to make your life easier for the rest of the project.\n",
    "   \n",
    "   In order to display the full contents of a column, we've added this line of code for you:\n",
    "   \n",
    "   ```py\n",
    "   pd.set_option('display.max_colwidth', None)\n",
    "   ```"
   ]
  },
  {
   "cell_type": "code",
   "execution_count": 88,
   "metadata": {},
   "outputs": [
    {
     "data": {
      "text/html": [
       "<div>\n",
       "<style scoped>\n",
       "    .dataframe tbody tr th:only-of-type {\n",
       "        vertical-align: middle;\n",
       "    }\n",
       "\n",
       "    .dataframe tbody tr th {\n",
       "        vertical-align: top;\n",
       "    }\n",
       "\n",
       "    .dataframe thead th {\n",
       "        text-align: right;\n",
       "    }\n",
       "</style>\n",
       "<table border=\"1\" class=\"dataframe\">\n",
       "  <thead>\n",
       "    <tr style=\"text-align: right;\">\n",
       "      <th></th>\n",
       "      <th>Show Number</th>\n",
       "      <th>Air Date</th>\n",
       "      <th>Round</th>\n",
       "      <th>Category</th>\n",
       "      <th>Value</th>\n",
       "      <th>Question</th>\n",
       "      <th>Answer</th>\n",
       "    </tr>\n",
       "  </thead>\n",
       "  <tbody>\n",
       "    <tr>\n",
       "      <th>0</th>\n",
       "      <td>4680</td>\n",
       "      <td>2004-12-31</td>\n",
       "      <td>Jeopardy!</td>\n",
       "      <td>HISTORY</td>\n",
       "      <td>$200</td>\n",
       "      <td>For the last 8 years of his life, Galileo was under house arrest for espousing this man's theory</td>\n",
       "      <td>Copernicus</td>\n",
       "    </tr>\n",
       "    <tr>\n",
       "      <th>1</th>\n",
       "      <td>4680</td>\n",
       "      <td>2004-12-31</td>\n",
       "      <td>Jeopardy!</td>\n",
       "      <td>ESPN's TOP 10 ALL-TIME ATHLETES</td>\n",
       "      <td>$200</td>\n",
       "      <td>No. 2: 1912 Olympian; football star at Carlisle Indian School; 6 MLB seasons with the Reds, Giants &amp; Braves</td>\n",
       "      <td>Jim Thorpe</td>\n",
       "    </tr>\n",
       "    <tr>\n",
       "      <th>2</th>\n",
       "      <td>4680</td>\n",
       "      <td>2004-12-31</td>\n",
       "      <td>Jeopardy!</td>\n",
       "      <td>EVERYBODY TALKS ABOUT IT...</td>\n",
       "      <td>$200</td>\n",
       "      <td>The city of Yuma in this state has a record average of 4,055 hours of sunshine each year</td>\n",
       "      <td>Arizona</td>\n",
       "    </tr>\n",
       "    <tr>\n",
       "      <th>3</th>\n",
       "      <td>4680</td>\n",
       "      <td>2004-12-31</td>\n",
       "      <td>Jeopardy!</td>\n",
       "      <td>THE COMPANY LINE</td>\n",
       "      <td>$200</td>\n",
       "      <td>In 1963, live on \"The Art Linkletter Show\", this company served its billionth burger</td>\n",
       "      <td>McDonald's</td>\n",
       "    </tr>\n",
       "    <tr>\n",
       "      <th>4</th>\n",
       "      <td>4680</td>\n",
       "      <td>2004-12-31</td>\n",
       "      <td>Jeopardy!</td>\n",
       "      <td>EPITAPHS &amp; TRIBUTES</td>\n",
       "      <td>$200</td>\n",
       "      <td>Signer of the Dec. of Indep., framer of the Constitution of Mass., second President of the United States</td>\n",
       "      <td>John Adams</td>\n",
       "    </tr>\n",
       "  </tbody>\n",
       "</table>\n",
       "</div>"
      ],
      "text/plain": [
       "   Show Number    Air Date      Round                         Category  Value  \\\n",
       "0         4680  2004-12-31  Jeopardy!                          HISTORY   $200   \n",
       "1         4680  2004-12-31  Jeopardy!  ESPN's TOP 10 ALL-TIME ATHLETES   $200   \n",
       "2         4680  2004-12-31  Jeopardy!      EVERYBODY TALKS ABOUT IT...   $200   \n",
       "3         4680  2004-12-31  Jeopardy!                 THE COMPANY LINE   $200   \n",
       "4         4680  2004-12-31  Jeopardy!              EPITAPHS & TRIBUTES   $200   \n",
       "\n",
       "                                                                                                      Question  \\\n",
       "0             For the last 8 years of his life, Galileo was under house arrest for espousing this man's theory   \n",
       "1  No. 2: 1912 Olympian; football star at Carlisle Indian School; 6 MLB seasons with the Reds, Giants & Braves   \n",
       "2                     The city of Yuma in this state has a record average of 4,055 hours of sunshine each year   \n",
       "3                         In 1963, live on \"The Art Linkletter Show\", this company served its billionth burger   \n",
       "4     Signer of the Dec. of Indep., framer of the Constitution of Mass., second President of the United States   \n",
       "\n",
       "       Answer  \n",
       "0  Copernicus  \n",
       "1  Jim Thorpe  \n",
       "2     Arizona  \n",
       "3  McDonald's  \n",
       "4  John Adams  "
      ]
     },
     "execution_count": 88,
     "metadata": {},
     "output_type": "execute_result"
    }
   ],
   "source": [
    "import pandas as pd\n",
    "pd.set_option('display.max_colwidth', None)\n",
    "\n",
    "df = pd.read_csv(\"jeopardy.csv\")\n",
    "df.head()"
   ]
  },
  {
   "cell_type": "code",
   "execution_count": 89,
   "metadata": {},
   "outputs": [
    {
     "data": {
      "text/plain": [
       "Index(['Show Number', ' Air Date', ' Round', ' Category', ' Value',\n",
       "       ' Question', ' Answer'],\n",
       "      dtype='object')"
      ]
     },
     "execution_count": 89,
     "metadata": {},
     "output_type": "execute_result"
    }
   ],
   "source": [
    "df.columns"
   ]
  },
  {
   "cell_type": "markdown",
   "metadata": {},
   "source": [
    "The issue with the column names is that there is a prefix of a space in most of them. We don't really want this so we should strip the text of the columns which will remove any of this unneccessary spacing."
   ]
  },
  {
   "cell_type": "code",
   "execution_count": 90,
   "metadata": {},
   "outputs": [
    {
     "data": {
      "text/plain": [
       "Index(['Show Number', 'Air Date', 'Round', 'Category', 'Value', 'Question',\n",
       "       'Answer'],\n",
       "      dtype='object')"
      ]
     },
     "execution_count": 90,
     "metadata": {},
     "output_type": "execute_result"
    }
   ],
   "source": [
    "df.columns = df.columns.str.strip()\n",
    "df.columns"
   ]
  },
  {
   "cell_type": "markdown",
   "metadata": {},
   "source": [
    "2. Write a function that filters the dataset for questions that contains all of the words in a list of words. For example, when the list `[\"King\", \"England\"]` was passed to our function, the function returned a DataFrame of 49 rows. Every row had the strings `\"King\"` and `\"England\"` somewhere in its `\" Question\"`.\n",
    "\n",
    "   Test your function by printing out the column containing the question of each row of the dataset."
   ]
  },
  {
   "cell_type": "code",
   "execution_count": 91,
   "metadata": {},
   "outputs": [],
   "source": [
    "def question_words(df, word_list):\n",
    "    new_df = df\n",
    "\n",
    "    for word in word_list:\n",
    "        new_df = new_df[new_df[\"Question\"].str.contains(word)]\n",
    "\n",
    "    return new_df\n"
   ]
  },
  {
   "cell_type": "code",
   "execution_count": 92,
   "metadata": {},
   "outputs": [
    {
     "data": {
      "text/plain": [
       "4953                                                                                                                                                                                                                                                                      Both England's King George V & FDR put their stamp of approval on this \"King of Hobbies\"\n",
       "14912                                                                                                                                                                                                                                                            This country's King Louis IV was nicknamed \"Louis From Overseas\" because he was raised in England\n",
       "21511                                                                                                                                                                                                                                                                                 this man and his son ruled England following the execution of King Charles I\n",
       "23810                                                                                                                                                                                                                                                         William the Conqueror was crowned King of England in Westminster Abbey on Christmas Day in this year\n",
       "27555                                                                                                                                                                                                                                                                           This member of the Medici family was the mother-in-law of England's King Charles I\n",
       "33294                 (Sarah of the Clue Crew delivers the clue from the Bayeux Cathedral in France.)  Despite taking an oath to assure another succession, Harold is crowned King of England; the tapestry indicated it was <a href=\"http://www.j-archive.com/media/2008-12-18_J_08.jpg\" target=\"_blank\">Stigant</a>, this archbishop, who performed the ceremony\n",
       "41148                                                                                                                                                                                                                                    This French king recognized William of Orange as William II, King of England, under the terms of 1697's Treaty of Ryswick\n",
       "41357                                                                                                                                                                                                                                                     England's King Henry VIII had 3 wives named Catherine:  Catherine Howard, Catherine of Aragon & this one\n",
       "43122                                                                                                                                                                                                                                                                                                                       The father of England's King Edward VI\n",
       "47814                                                                                                                                                                                                                                                                                                   This steak sauce was created for King George IV of England\n",
       "49994                                                                                                                                                                                                                                                                       Elizabeth I's half-brother, he reigned before her as King of England from 1547 to 1553\n",
       "51115                                                                                                                  (<a href=\"http://www.j-archive.com/media/2000-03-02_J_22.jpg\" target=\"_blank\">Alex Trebek reads from England.</a>)  In 1214 barons fed up with King John met at the abbey whose ruins we see here; the result a year later was this charter\n",
       "51565                                                                                                                                                                                                                                                 He wrote several anthems, including \"The King Shall Rejoice\", for the coronation of England's King George II\n",
       "56600                                                                                                                                                                                                                                                              This city known for its 24-hour auto race was the birthplace of England's King Henry II in 1133\n",
       "57516                                                                                                                                                                                                                                                                                         Famous (& rather insulting) adjective for England's King Ethelred II\n",
       "58949                                                                                                                                                                                                                                                                        He became King of England in 1399 after forcing his cousin Richard II from the throne\n",
       "71808                                                                                                                                                                                                                                                                                      Number of the William who was England's \"Sailor King\" from 1830 to 1837\n",
       "74235                                                                                                                                                                                                                                                                     Barons & churchmen drew up this 1215 document to reduce the power of England's King John\n",
       "77195                                                                                                                                                                                                                                                          He became King of England on June 26, 1483; just over 2 years later he was killed at Bosworth Field\n",
       "79457                                                                                                                                                                                                                                              On Christmas Day 1066, he was crowned King of England, 72 days after defeating Harold at the Battle of Hastings\n",
       "80113                                                                                                                                                                                                                                                                                                England's King Charles II was known by this \"jovial\" nickname\n",
       "84639                                                                                                                                                                                                                                                                            He went from second banana on \"Roseanne\" to top banana of England in \"King Ralph\"\n",
       "86412                                                                                                                                                                                                                                                                         This country's King Olaf V was born in England & was the grandson of King Edward VII\n",
       "89710                                                                                                                                                                                                                                                            This 11th Century King of England also ruled Denmark & Norway during the latter part of his reign\n",
       "111926                                                                                                                                                                                                                                                   It begins \"John, by the grace of God, King of England, Lord of Ireland, Duke of Normandy & Aquitaine....\"\n",
       "118809                                                                                                                                                                                                                                                                                            In French this King of England is called Guillaume le Conquerant\n",
       "123299                                                                                                                                                                                                                                                                     If you want to be crowned King of England, this rock has to be in your coronation chair\n",
       "123671                                                                                                                                                                                                                                                                                                                              King Henry VII of England dies\n",
       "125822                                                                                                                                                                                                                                                                                              Famous nickname of the eldest son of England's King Edward III\n",
       "127484                                                                                                                                                                                                                                                                Ethelred the Unready managed to lose most of England to King Sweyn Forkbeard of this country\n",
       "127758                                                                                                                                                                                                                                                                                  This state was named for the King of England who reigned from 1727 to 1760\n",
       "129106                                                                                                                                                                                                                                                              King Edward I of England, who fought William Wallace, had this nickname relating to his height\n",
       "130208                                                                                                                                                                                                                                                                                    This \"Sun King\" sniffed, \"England is a little garden full of sour weeds\"\n",
       "137818                                                                                                                                                                                                                                                                                        The last King William to rule England had this number after his name\n",
       "143434                                                                                                                                                                                                                                                                This Flemish artist painted a unique triple portrait of England's King Charles I around 1637\n",
       "150880                                                                                                                                                                                                                                                                                       During Stanley Baldwin's term as P.M., this King of England abdicated\n",
       "165110                                                                                                                                                                                                                                                        The 1st commoner to rule England, he became lord protector following the overthrow of King Charles I\n",
       "165197                                                                                                                                                                                                                                                       The \"Angel of Hadley\" is said to have saved a New England town during the war with this Indian \"King\"\n",
       "170007                                                                                                                                                                                                                                                                In the 1697 Treaty of Rijswijk, the French recognized this Dutch-born man as King of England\n",
       "174055                                                                                                                                                                                                                                                                                            This conqueror was crowned King of England on Christmas Day 1066\n",
       "175259                                                                                                                                                                                                                                                                                                          His short reign as King of England fell in in 1936\n",
       "183462                                                                                                                                                                                                                                                            A capital in the West Indies is named for this family name of William of Orange, King of England\n",
       "186239                                                                                                                                                                                                                                           He was King of England from 1189 to 1199 but spent only 6 months there; the rest of the time, he was off fighting\n",
       "187651                                                                                                                                                                                                                                                                     This Bahamian capital took its name from the family name of King William III of England\n",
       "191579                                                                                                                                                                                                                                                                             England's King Harold II lost the all-important Battle of Hastings in this year\n",
       "192265    (<a href=\"http://www.j-archive.com/media/2012-01-17_DJ_25.jpg\" target=\"_blank\">Sarah of the Clue Crew stands in front of the Royal Palace in Oslo, Norway.</a>) King Harald V lives here, in Norway's Royal Palace. He and his second cousin, England's Queen Elizabeth, are both great-grandchildren of this British king, who ruled from 1901 to 1910.\n",
       "192966                                                                                                                                                                                                                                                                                                                          England's King _____ _____ R. Luce\n",
       "194516                                                                                                                                                                                                                                                            The \"Monty Python\" member who played King Arthur, he ended his grail quest in Maidstone, England\n",
       "200369                                                                                                                                                                                                                                             8th C. King Offa built a 170-mile north-south dike that still partly marks the border of England & this country\n",
       "Name: Question, dtype: object"
      ]
     },
     "execution_count": 92,
     "metadata": {},
     "output_type": "execute_result"
    }
   ],
   "source": [
    "word_list = [\"England\", \"King\"]\n",
    "returned_df = question_words(df, word_list)\n",
    "returned_df[\"Question\"]"
   ]
  },
  {
   "cell_type": "code",
   "execution_count": 93,
   "metadata": {},
   "outputs": [
    {
     "data": {
      "text/plain": [
       "49"
      ]
     },
     "execution_count": 93,
     "metadata": {},
     "output_type": "execute_result"
    }
   ],
   "source": [
    "len(returned_df)"
   ]
  },
  {
   "cell_type": "code",
   "execution_count": 94,
   "metadata": {},
   "outputs": [
    {
     "data": {
      "text/plain": [
       "143                                                                                                                                                                                                                                                                                                                                                  Andrea Palladio's 1554 book on \"The Antiquities of\" this city was the standard guidebook for some 200 years\n",
       "224                                                                                                                                                                                                                                                                                                                                                     The Times of London estimates this chess player is taking home $20 mil. a year; that's some check, mate!\n",
       "918                                                                                                                                                                                                                                                                                                                                          As an 8-year-old in 1956, she sang with a group welcoming Queen Elizabeth II; later she sang to open the 2000 games\n",
       "976                                                                                                                                                                                                                                                                                                                                                                          This show which had a 9-year-run on ABC was produced with help from J. Edgar Hoover\n",
       "1501                                                                                                                                                                                                                                                                                                                                                                       Each year, World Space Week is at the start of October, commemorating this 1957 event\n",
       "                                                                                                                                                                                                                                   ...                                                                                                                                                                                                                          \n",
       "216099    (<a href=\"http://www.j-archive.com/media/2011-09-20_J_08.jpg\" target=\"_blank\">Kelly of the Clue Crew holds a small statue at the Smithsonian Hall of Human Origins.</a>)  This 35-thousand-year-old <a href=\"http://www.j-archive.com/media/2011-09-20_J_08a.jpg\" target=\"_blank\">figurine</a> known as the Lion Man, the oldest known human statue, is made from the ivory of this animal that went from endangered to extinct thousands of years ago\n",
       "216368                                                                                                                                                                                                                                                                                                                    November of this year brought the headline seen <a href=\"http://www.j-archive.com/media/2001-09-20_DJ_24.jpg\" target=\"_blank\">here</a>\n",
       "216379                                                                                                                                                                                                                                                                                                                        Post World War II-year of the headline seen <a href=\"http://www.j-archive.com/media/2001-09-20_DJ_26.jpg\" target=\"_blank\">here</a>\n",
       "216683                                                                                                                                                                                                                                                                                                                                                                            Put on some soft howling music during this season of the year when wolves mate\n",
       "216693                                                                                                                                          (<a href=\"http://www.j-archive.com/media/2010-12-16_J_27.jpg\" target=\"_blank\">Kelly of the Clue Crew gives the clue from the American Red Cross in Washington, D.C.</a>)  One of the best ways you can help the Red Cross is to donate blood, & since you can do it every 56 days, that's this many times a year\n",
       "Name: Question, Length: 1260, dtype: object"
      ]
     },
     "execution_count": 94,
     "metadata": {},
     "output_type": "execute_result"
    }
   ],
   "source": [
    "word_list = [\"om\", \"th\", \"year\"]\n",
    "returned_df = question_words(df, word_list)\n",
    "returned_df[\"Question\"]"
   ]
  },
  {
   "cell_type": "markdown",
   "metadata": {},
   "source": [
    "3. Test your original function with a few different sets of words to try to find some ways your function breaks. Edit your function so it is more robust.\n",
    "\n",
    "   For example, think about capitalization. We probably want to find questions that contain the word `\"King\"` or `\"king\"`.\n",
    "   \n",
    "   You may also want to check to make sure you don't find rows that contain substrings of your given words. For example, our function found a question that didn't contain the word `\"king\"`, however it did contain the word `\"viking\"` &mdash; it found the `\"king\"` inside `\"viking\"`. Note that this also comes with some drawbacks &mdash; you would no longer find questions that contained words like `\"England's\"`."
   ]
  },
  {
   "cell_type": "code",
   "execution_count": 95,
   "metadata": {},
   "outputs": [],
   "source": [
    "def question_words_2(df, word_list):\n",
    "    new_df = df\n",
    "\n",
    "    for word in word_list:\n",
    "        # rf before the string makes it so escape characters work properly and I can easily reference the individual word from the word_list for the regex\n",
    "        # 3 separate matching cases to deal with 2 edge cases where the word is at the beginning or end of the question where there would be no text on either side to check for anything.\n",
    "        # The \\W's are there to see if there is a non-alphanumeric character there (number, whitespace, comma, etc.).\n",
    "        # If there is an alphanumeric character, the word from word_list is only a part of a word and does not count.\n",
    "        # If there is a non-alphanumeric character then it is the beginning or end of the word (depending on what side).\n",
    "        new_df = new_df[new_df[\"Question\"].str.contains(rf\"\\W{word}\\W|\\W{word}$|^{word}\\W\", case=False, na=False)]\n",
    "\n",
    "    return new_df"
   ]
  },
  {
   "cell_type": "code",
   "execution_count": 96,
   "metadata": {},
   "outputs": [
    {
     "data": {
      "text/plain": [
       "Series([], Name: Question, dtype: object)"
      ]
     },
     "execution_count": 96,
     "metadata": {},
     "output_type": "execute_result"
    }
   ],
   "source": [
    "word_list = [\"om\", \"th\", \"year\"]\n",
    "returned_df = question_words_2(df, word_list)\n",
    "returned_df[\"Question\"]"
   ]
  },
  {
   "cell_type": "markdown",
   "metadata": {},
   "source": [
    "No longer does this word_list return anything since 'om' and 'th' aren't full words."
   ]
  },
  {
   "cell_type": "code",
   "execution_count": 97,
   "metadata": {},
   "outputs": [
    {
     "data": {
      "text/plain": [
       "293                                                                                                                                                                                                                                                                                                                       \"'...Why look'st thou so?'--'With my crossbow I shot the albatross'\"\n",
       "81286                                                                                                                        Restored to its <a href=\"http://www.j-archive.com/media/2004-06-03_J_19.jpg\" target=\"_blank\">original look</a>, the USA's first public one of <a href=\"http://www.j-archive.com/media/2004-06-03_J_19a.jpg\" target=\"_blank\">these</a> opened in St. Louis in 1873\n",
       "124979                                                                                                                                                                                                                                                                              \"'From the fiends, that plague thee thus!--Why look'st thou so?'--'With my crossbow I shot the albatross'\"\n",
       "134131                                                                                                                                                                                                                                                                        Coleridge: \"From the fiends, that plague thee thus!--why look'st thou so?\"--\"With my bleep I shot the albatross\"\n",
       "134953    (<a href=\"http://www.j-archive.com/media/2006-05-04_J_05.jpg\" target=\"_blank\">Cheryl of the Clue Crew stands with a gold statue in Peterhofm St. Petersberg, Russia.</a>)  The statue of Perseus here at Peterhof holds the <a href=\"http://www.j-archive.com/media/2006-05-04_J_05a.jpg\" target=\"_blank\">head</a> of this Gorgon who's made to look like King Charles XII of Sweden\n",
       "Name: Question, dtype: object"
      ]
     },
     "execution_count": 97,
     "metadata": {},
     "output_type": "execute_result"
    }
   ],
   "source": [
    "word_list = [\"St\", \"Look\"]\n",
    "returned_df = question_words_2(df, word_list)\n",
    "returned_df[\"Question\"]"
   ]
  },
  {
   "cell_type": "markdown",
   "metadata": {},
   "source": [
    "Still some weird edge cases can exist. Such as this question:\n",
    "\n",
    "\"'From the fiends, that plague thee thus!--Why look'st thou so?'--'With my crossbow I shot the albatross'\"\n",
    "\n",
    "If the word_list has 'look' in it (or st) then it matches for 'look'st' since 'look' has a space and a ' after it. \n",
    "\n",
    "The reason I'm not going to fix such edge cases is so that the case mentioned in the question (England's) can still actually work if the word in word_list is 'England'."
   ]
  },
  {
   "cell_type": "markdown",
   "metadata": {},
   "source": [
    "There is also some weirdness in some questions with image links in them but I'm not sure we'll need to actually fix that for this project."
   ]
  },
  {
   "cell_type": "markdown",
   "metadata": {},
   "source": [
    "4. We may want to eventually compute aggregate statistics, like `.mean()` on the `\" Value\"` column. But right now, the values in that column are strings. Convert the`\" Value\"` column to floats. If you'd like to, you can create a new column with float values.\n",
    "\n",
    "   While most of the values in the `\" Value\"` column represent a dollar amount as a string, note that some do not &mdash; these values will need to be handled differently!\n",
    "\n",
    "   Now that you can filter the dataset of question, use your new column that contains the float values of each question to find the \"difficulty\" of certain topics. For example, what is the average value of questions that contain the word `\"King\"`?\n",
    "   \n",
    "   Make sure to use the dataset that contains the float values as the dataset you use in your filtering function."
   ]
  },
  {
   "cell_type": "code",
   "execution_count": 99,
   "metadata": {},
   "outputs": [
    {
     "name": "stdout",
     "output_type": "stream",
     "text": [
      "['$200' '$400' '$600' '$800' '$2,000' '$1000' '$1200' '$1600' '$2000'\n",
      " '$3,200' 'no value' '$5,000' '$100' '$300' '$500' '$1,000' '$1,500'\n",
      " '$1,200' '$4,800' '$1,800' '$1,100' '$2,200' '$3,400' '$3,000' '$4,000'\n",
      " '$1,600' '$6,800' '$1,900' '$3,100' '$700' '$1,400' '$2,800' '$8,000'\n",
      " '$6,000' '$2,400' '$12,000' '$3,800' '$2,500' '$6,200' '$10,000' '$7,000'\n",
      " '$1,492' '$7,400' '$1,300' '$7,200' '$2,600' '$3,300' '$5,400' '$4,500'\n",
      " '$2,100' '$900' '$3,600' '$2,127' '$367' '$4,400' '$3,500' '$2,900'\n",
      " '$3,900' '$4,100' '$4,600' '$10,800' '$2,300' '$5,600' '$1,111' '$8,200'\n",
      " '$5,800' '$750' '$7,500' '$1,700' '$9,000' '$6,100' '$1,020' '$4,700'\n",
      " '$2,021' '$5,200' '$3,389' '$4,200' '$5' '$2,001' '$1,263' '$4,637'\n",
      " '$3,201' '$6,600' '$3,700' '$2,990' '$5,500' '$14,000' '$2,700' '$6,400'\n",
      " '$350' '$8,600' '$6,300' '$250' '$3,989' '$8,917' '$9,500' '$1,246'\n",
      " '$6,435' '$8,800' '$2,222' '$2,746' '$10,400' '$7,600' '$6,700' '$5,100'\n",
      " '$13,200' '$4,300' '$1,407' '$12,400' '$5,401' '$7,800' '$1,183' '$1,203'\n",
      " '$13,000' '$11,600' '$14,200' '$1,809' '$8,400' '$8,700' '$11,000'\n",
      " '$5,201' '$1,801' '$3,499' '$5,700' '$601' '$4,008' '$50' '$2,344'\n",
      " '$2,811' '$18,000' '$1,777' '$3,599' '$9,800' '$796' '$3,150' '$20'\n",
      " '$1,810' '$22' '$9,200' '$1,512' '$8,500' '$585' '$1,534' '$13,800'\n",
      " '$5,001' '$4,238' '$16,400' '$1,347' '$2547' '$11,200']\n"
     ]
    }
   ],
   "source": [
    "print(df[\"Value\"].unique())"
   ]
  },
  {
   "cell_type": "markdown",
   "metadata": {},
   "source": [
    "First, we need to remove the $ sign and commas from all the values, then the rows with 'no value' should be turned into 0"
   ]
  },
  {
   "cell_type": "code",
   "execution_count": 100,
   "metadata": {},
   "outputs": [
    {
     "name": "stdout",
     "output_type": "stream",
     "text": [
      "['200' '400' '600' '800' '2000' '1000' '1200' '1600' '3200' 'no value'\n",
      " '5000' '100' '300' '500' '1500' '4800' '1800' '1100' '2200' '3400' '3000'\n",
      " '4000' '6800' '1900' '3100' '700' '1400' '2800' '8000' '6000' '2400'\n",
      " '12000' '3800' '2500' '6200' '10000' '7000' '1492' '7400' '1300' '7200'\n",
      " '2600' '3300' '5400' '4500' '2100' '900' '3600' '2127' '367' '4400'\n",
      " '3500' '2900' '3900' '4100' '4600' '10800' '2300' '5600' '1111' '8200'\n",
      " '5800' '750' '7500' '1700' '9000' '6100' '1020' '4700' '2021' '5200'\n",
      " '3389' '4200' '5' '2001' '1263' '4637' '3201' '6600' '3700' '2990' '5500'\n",
      " '14000' '2700' '6400' '350' '8600' '6300' '250' '3989' '8917' '9500'\n",
      " '1246' '6435' '8800' '2222' '2746' '10400' '7600' '6700' '5100' '13200'\n",
      " '4300' '1407' '12400' '5401' '7800' '1183' '1203' '13000' '11600' '14200'\n",
      " '1809' '8400' '8700' '11000' '5201' '1801' '3499' '5700' '601' '4008'\n",
      " '50' '2344' '2811' '18000' '1777' '3599' '9800' '796' '3150' '20' '1810'\n",
      " '22' '9200' '1512' '8500' '585' '1534' '13800' '5001' '4238' '16400'\n",
      " '1347' '2547' '11200']\n"
     ]
    }
   ],
   "source": [
    "df[\"Value\"] = df[\"Value\"].str.replace(r\"\\$|,\", \"\", regex=True)\n",
    "print(df[\"Value\"].unique())"
   ]
  },
  {
   "cell_type": "code",
   "execution_count": 101,
   "metadata": {},
   "outputs": [
    {
     "name": "stdout",
     "output_type": "stream",
     "text": [
      "['200' '400' '600' '800' '2000' '1000' '1200' '1600' '3200' '0' '5000'\n",
      " '100' '300' '500' '1500' '4800' '1800' '1100' '2200' '3400' '3000' '4000'\n",
      " '6800' '1900' '3100' '700' '1400' '2800' '8000' '6000' '2400' '12000'\n",
      " '3800' '2500' '6200' '10000' '7000' '1492' '7400' '1300' '7200' '2600'\n",
      " '3300' '5400' '4500' '2100' '900' '3600' '2127' '367' '4400' '3500'\n",
      " '2900' '3900' '4100' '4600' '10800' '2300' '5600' '1111' '8200' '5800'\n",
      " '750' '7500' '1700' '9000' '6100' '1020' '4700' '2021' '5200' '3389'\n",
      " '4200' '5' '2001' '1263' '4637' '3201' '6600' '3700' '2990' '5500'\n",
      " '14000' '2700' '6400' '350' '8600' '6300' '250' '3989' '8917' '9500'\n",
      " '1246' '6435' '8800' '2222' '2746' '10400' '7600' '6700' '5100' '13200'\n",
      " '4300' '1407' '12400' '5401' '7800' '1183' '1203' '13000' '11600' '14200'\n",
      " '1809' '8400' '8700' '11000' '5201' '1801' '3499' '5700' '601' '4008'\n",
      " '50' '2344' '2811' '18000' '1777' '3599' '9800' '796' '3150' '20' '1810'\n",
      " '22' '9200' '1512' '8500' '585' '1534' '13800' '5001' '4238' '16400'\n",
      " '1347' '2547' '11200']\n"
     ]
    }
   ],
   "source": [
    "df[\"Value\"] = df[\"Value\"].str.replace(\"no value\", \"0\")\n",
    "print(df[\"Value\"].unique())"
   ]
  },
  {
   "cell_type": "code",
   "execution_count": 102,
   "metadata": {},
   "outputs": [],
   "source": [
    "df[\"Value\"] = pd.to_numeric(df[\"Value\"])"
   ]
  },
  {
   "cell_type": "code",
   "execution_count": 103,
   "metadata": {},
   "outputs": [
    {
     "name": "stdout",
     "output_type": "stream",
     "text": [
      "803.2981049562683\n"
     ]
    }
   ],
   "source": [
    "word_list = [\"King\"]\n",
    "king_questions = question_words_2(df, word_list)\n",
    "mean_value_king_questions = king_questions[\"Value\"].mean()\n",
    "print(mean_value_king_questions)"
   ]
  },
  {
   "cell_type": "markdown",
   "metadata": {},
   "source": [
    "5. Write a function that returns the count of unique answers to all of the questions in a dataset. For example, after filtering the entire dataset to only questions containing the word `\"King\"`, we could then find all of the unique answers to those questions. The answer \"Henry VIII\" appeared 55 times and was the most common answer."
   ]
  },
  {
   "cell_type": "code",
   "execution_count": 104,
   "metadata": {},
   "outputs": [],
   "source": [
    "def count_answers(df):\n",
    "    return df[\"Answer\"].value_counts()"
   ]
  },
  {
   "cell_type": "code",
   "execution_count": 105,
   "metadata": {},
   "outputs": [
    {
     "data": {
      "text/plain": [
       "Answer\n",
       "Henry VIII                           54\n",
       "Solomon                              31\n",
       "Louis XIV                            31\n",
       "David                                29\n",
       "Sweden                               24\n",
       "                                     ..\n",
       "Oscar                                 1\n",
       "Henderson                             1\n",
       "(Catherine) Howard                    1\n",
       "\"The Circle Of Life\"                  1\n",
       "a pyramid (the pyramids accepted)     1\n",
       "Name: count, Length: 1499, dtype: int64"
      ]
     },
     "execution_count": 105,
     "metadata": {},
     "output_type": "execute_result"
    }
   ],
   "source": [
    "count_answers(king_questions)"
   ]
  },
  {
   "cell_type": "markdown",
   "metadata": {},
   "source": [
    "The count for Henry VIII is different because the filter in their solution is a bit different than mine (I think mine is more robust) but since it is close to their answer it must still be working correctly."
   ]
  },
  {
   "cell_type": "markdown",
   "metadata": {},
   "source": [
    "There is more I can technically do but I'm going to stop here for now with this project since there isn't a huge need to continue with it."
   ]
  }
 ],
 "metadata": {
  "kernelspec": {
   "display_name": "Python 3 (ipykernel)",
   "language": "python",
   "name": "python3"
  },
  "language_info": {
   "codemirror_mode": {
    "name": "ipython",
    "version": 3
   },
   "file_extension": ".py",
   "mimetype": "text/x-python",
   "name": "python",
   "nbconvert_exporter": "python",
   "pygments_lexer": "ipython3",
   "version": "3.12.1"
  }
 },
 "nbformat": 4,
 "nbformat_minor": 2
}
