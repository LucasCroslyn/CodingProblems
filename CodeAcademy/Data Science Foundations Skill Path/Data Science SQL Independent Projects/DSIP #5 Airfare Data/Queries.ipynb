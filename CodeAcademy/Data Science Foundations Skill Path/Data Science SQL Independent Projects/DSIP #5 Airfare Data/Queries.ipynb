{
 "cells": [
  {
   "cell_type": "code",
   "execution_count": null,
   "metadata": {},
   "outputs": [],
   "source": [
    " # Python extension for interfacing with SQL and better table formatting with Pandas\n",
    "\n",
    "# !pip install ipython-sql\n",
    "# !pip install pandas"
   ]
  },
  {
   "cell_type": "markdown",
   "metadata": {},
   "source": [
    "Our data is in 1 CSV file, let's investigate what it looks like and move it into a .db file"
   ]
  },
  {
   "cell_type": "code",
   "execution_count": 2,
   "metadata": {},
   "outputs": [],
   "source": [
    "# load the extensions that we need to begin a separate cell\n",
    "import pandas as pd\n",
    "import sqlite3"
   ]
  },
  {
   "cell_type": "code",
   "execution_count": 3,
   "metadata": {},
   "outputs": [
    {
     "name": "stdout",
     "output_type": "stream",
     "text": [
      "   Year  quarter  citymarketid_1  citymarketid_2  \\\n",
      "0  2009        2           32467           34576   \n",
      "1  2000        4           30397           33198   \n",
      "2  2007        4           32575           34614   \n",
      "3  2004        4           32337           31650   \n",
      "4  2008        4           30194           30559   \n",
      "\n",
      "                                 city1                     city2  nsmiles  \\\n",
      "0        Miami, FL (Metropolitan Area)             Rochester, NY     1204   \n",
      "1      Atlanta, GA (Metropolitan Area)           Kansas City, MO      692   \n",
      "2  Los Angeles, CA (Metropolitan Area)        Salt Lake City, UT      590   \n",
      "3                     Indianapolis, IN  Minneapolis/St. Paul, MN      503   \n",
      "4                Dallas/Fort Worth, TX               Seattle, WA     1670   \n",
      "\n",
      "   passengers    fare carrier_lg  large_ms  fare_lg carrier_low  lf_ms  \\\n",
      "0         203  151.46         FL      0.29   131.05          FL   0.29   \n",
      "1         782  172.83         DL      0.63   194.71          NJ   0.26   \n",
      "2        3122  135.24         DL      0.51   144.28          B6   0.15   \n",
      "3         395  206.78         NW      0.74   224.77          TZ   0.11   \n",
      "4         957  242.74         AA      0.47   262.43          AS   0.27   \n",
      "\n",
      "   fare_low  table_1_flag                                     Geocoded_City1  \\\n",
      "0    131.05             1  Miami, FL (Metropolitan Area)\\n(44.977479, -93...   \n",
      "1    126.88             1  Atlanta, GA (Metropolitan Area)\\n(33.748547, -...   \n",
      "2    111.68             1  Los Angeles, CA (Metropolitan Area)\\n(34.05223...   \n",
      "3    156.74             1           Indianapolis, IN\\n(39.76845, -86.156212)   \n",
      "4    218.90             1      Dallas/Fort Worth, TX\\n(40.11086, -77.035636)   \n",
      "\n",
      "                                      Geocoded_City2  \n",
      "0             Rochester, NY\\n(43.155708, -77.612547)  \n",
      "1           Kansas City, MO\\n(39.099792, -94.578559)  \n",
      "2       Salt Lake City, UT\\n(40.758478, -111.888142)  \n",
      "3  Minneapolis/St. Paul, MN\\n(44.977479, -93.264346)  \n",
      "4               Seattle, WA\\n(47.603229, -122.33028)  \n",
      "<class 'pandas.core.frame.DataFrame'>\n",
      "RangeIndex: 90021 entries, 0 to 90020\n",
      "Data columns (total 18 columns):\n",
      " #   Column          Non-Null Count  Dtype  \n",
      "---  ------          --------------  -----  \n",
      " 0   Year            90021 non-null  int64  \n",
      " 1   quarter         90021 non-null  int64  \n",
      " 2   citymarketid_1  90021 non-null  int64  \n",
      " 3   citymarketid_2  90021 non-null  int64  \n",
      " 4   city1           90021 non-null  object \n",
      " 5   city2           90021 non-null  object \n",
      " 6   nsmiles         90021 non-null  int64  \n",
      " 7   passengers      90021 non-null  int64  \n",
      " 8   fare            90021 non-null  float64\n",
      " 9   carrier_lg      90021 non-null  object \n",
      " 10  large_ms        90021 non-null  float64\n",
      " 11  fare_lg         90021 non-null  float64\n",
      " 12  carrier_low     90018 non-null  object \n",
      " 13  lf_ms           90018 non-null  float64\n",
      " 14  fare_low        90018 non-null  float64\n",
      " 15  table_1_flag    90021 non-null  int64  \n",
      " 16  Geocoded_City1  90021 non-null  object \n",
      " 17  Geocoded_City2  90021 non-null  object \n",
      "dtypes: float64(5), int64(7), object(6)\n",
      "memory usage: 12.4+ MB\n",
      "None\n"
     ]
    }
   ],
   "source": [
    "# Getting a view of the estate csv table\n",
    "airfare_df = pd.read_csv('airfare_data.csv')\n",
    "print(airfare_df.head())\n",
    "print(airfare_df.info())"
   ]
  },
  {
   "cell_type": "markdown",
   "metadata": {},
   "source": [
    "This dataset measures information about flights from one city to another city in a set timeframe (a quater of a year at a time). We know information about the cities, the distance, the number of people, which carriers were the most popular/cheapest, and some information about the cost of the flights.\n",
    "\n",
    "We know that 'carrier_low' is the carrier with the lowest fare and 'carrier_lg' is the carrier with the largest market share from Q4"
   ]
  },
  {
   "cell_type": "code",
   "execution_count": 4,
   "metadata": {},
   "outputs": [],
   "source": [
    "# Combining tables and making SQL database\n",
    "\n",
    "# Make the SQLite database\n",
    "conn = sqlite3.connect('airfare.db')\n",
    "\n",
    "# Write DataFrames to SQLite tables in the database (don't need the dataframe indexes)\n",
    "airfare_df.to_sql('airfare', conn, if_exists='replace', index=False)\n",
    "\n",
    "# Close the connection\n",
    "conn.close()"
   ]
  },
  {
   "cell_type": "code",
   "execution_count": 1,
   "metadata": {},
   "outputs": [],
   "source": [
    "# Necessary in the Jupyter Notebook to load the SQL extension and connect to the database file to use SQL directly, currently using SQLite\n",
    "# Formatting the SQL query outputs into a better format with Pandas\n",
    "\n",
    "%load_ext sql\n",
    "%sql sqlite:///airfare.db\n",
    "%config SqlMagic.autopandas=True"
   ]
  },
  {
   "cell_type": "markdown",
   "metadata": {},
   "source": [
    "Let's check our database and make sure everything worked properly"
   ]
  },
  {
   "cell_type": "code",
   "execution_count": 2,
   "metadata": {
    "vscode": {
     "languageId": "sql"
    }
   },
   "outputs": [
    {
     "name": "stdout",
     "output_type": "stream",
     "text": [
      " * sqlite:///airfare.db\n",
      "Done.\n"
     ]
    },
    {
     "data": {
      "text/html": [
       "<div>\n",
       "<style scoped>\n",
       "    .dataframe tbody tr th:only-of-type {\n",
       "        vertical-align: middle;\n",
       "    }\n",
       "\n",
       "    .dataframe tbody tr th {\n",
       "        vertical-align: top;\n",
       "    }\n",
       "\n",
       "    .dataframe thead th {\n",
       "        text-align: right;\n",
       "    }\n",
       "</style>\n",
       "<table border=\"1\" class=\"dataframe\">\n",
       "  <thead>\n",
       "    <tr style=\"text-align: right;\">\n",
       "      <th></th>\n",
       "      <th>cid</th>\n",
       "      <th>name</th>\n",
       "      <th>type</th>\n",
       "      <th>notnull</th>\n",
       "      <th>dflt_value</th>\n",
       "      <th>pk</th>\n",
       "    </tr>\n",
       "  </thead>\n",
       "  <tbody>\n",
       "    <tr>\n",
       "      <th>0</th>\n",
       "      <td>0</td>\n",
       "      <td>Year</td>\n",
       "      <td>INTEGER</td>\n",
       "      <td>0</td>\n",
       "      <td>None</td>\n",
       "      <td>0</td>\n",
       "    </tr>\n",
       "    <tr>\n",
       "      <th>1</th>\n",
       "      <td>1</td>\n",
       "      <td>quarter</td>\n",
       "      <td>INTEGER</td>\n",
       "      <td>0</td>\n",
       "      <td>None</td>\n",
       "      <td>0</td>\n",
       "    </tr>\n",
       "    <tr>\n",
       "      <th>2</th>\n",
       "      <td>2</td>\n",
       "      <td>citymarketid_1</td>\n",
       "      <td>INTEGER</td>\n",
       "      <td>0</td>\n",
       "      <td>None</td>\n",
       "      <td>0</td>\n",
       "    </tr>\n",
       "    <tr>\n",
       "      <th>3</th>\n",
       "      <td>3</td>\n",
       "      <td>citymarketid_2</td>\n",
       "      <td>INTEGER</td>\n",
       "      <td>0</td>\n",
       "      <td>None</td>\n",
       "      <td>0</td>\n",
       "    </tr>\n",
       "    <tr>\n",
       "      <th>4</th>\n",
       "      <td>4</td>\n",
       "      <td>city1</td>\n",
       "      <td>TEXT</td>\n",
       "      <td>0</td>\n",
       "      <td>None</td>\n",
       "      <td>0</td>\n",
       "    </tr>\n",
       "    <tr>\n",
       "      <th>5</th>\n",
       "      <td>5</td>\n",
       "      <td>city2</td>\n",
       "      <td>TEXT</td>\n",
       "      <td>0</td>\n",
       "      <td>None</td>\n",
       "      <td>0</td>\n",
       "    </tr>\n",
       "    <tr>\n",
       "      <th>6</th>\n",
       "      <td>6</td>\n",
       "      <td>nsmiles</td>\n",
       "      <td>INTEGER</td>\n",
       "      <td>0</td>\n",
       "      <td>None</td>\n",
       "      <td>0</td>\n",
       "    </tr>\n",
       "    <tr>\n",
       "      <th>7</th>\n",
       "      <td>7</td>\n",
       "      <td>passengers</td>\n",
       "      <td>INTEGER</td>\n",
       "      <td>0</td>\n",
       "      <td>None</td>\n",
       "      <td>0</td>\n",
       "    </tr>\n",
       "    <tr>\n",
       "      <th>8</th>\n",
       "      <td>8</td>\n",
       "      <td>fare</td>\n",
       "      <td>REAL</td>\n",
       "      <td>0</td>\n",
       "      <td>None</td>\n",
       "      <td>0</td>\n",
       "    </tr>\n",
       "    <tr>\n",
       "      <th>9</th>\n",
       "      <td>9</td>\n",
       "      <td>carrier_lg</td>\n",
       "      <td>TEXT</td>\n",
       "      <td>0</td>\n",
       "      <td>None</td>\n",
       "      <td>0</td>\n",
       "    </tr>\n",
       "    <tr>\n",
       "      <th>10</th>\n",
       "      <td>10</td>\n",
       "      <td>large_ms</td>\n",
       "      <td>REAL</td>\n",
       "      <td>0</td>\n",
       "      <td>None</td>\n",
       "      <td>0</td>\n",
       "    </tr>\n",
       "    <tr>\n",
       "      <th>11</th>\n",
       "      <td>11</td>\n",
       "      <td>fare_lg</td>\n",
       "      <td>REAL</td>\n",
       "      <td>0</td>\n",
       "      <td>None</td>\n",
       "      <td>0</td>\n",
       "    </tr>\n",
       "    <tr>\n",
       "      <th>12</th>\n",
       "      <td>12</td>\n",
       "      <td>carrier_low</td>\n",
       "      <td>TEXT</td>\n",
       "      <td>0</td>\n",
       "      <td>None</td>\n",
       "      <td>0</td>\n",
       "    </tr>\n",
       "    <tr>\n",
       "      <th>13</th>\n",
       "      <td>13</td>\n",
       "      <td>lf_ms</td>\n",
       "      <td>REAL</td>\n",
       "      <td>0</td>\n",
       "      <td>None</td>\n",
       "      <td>0</td>\n",
       "    </tr>\n",
       "    <tr>\n",
       "      <th>14</th>\n",
       "      <td>14</td>\n",
       "      <td>fare_low</td>\n",
       "      <td>REAL</td>\n",
       "      <td>0</td>\n",
       "      <td>None</td>\n",
       "      <td>0</td>\n",
       "    </tr>\n",
       "    <tr>\n",
       "      <th>15</th>\n",
       "      <td>15</td>\n",
       "      <td>table_1_flag</td>\n",
       "      <td>INTEGER</td>\n",
       "      <td>0</td>\n",
       "      <td>None</td>\n",
       "      <td>0</td>\n",
       "    </tr>\n",
       "    <tr>\n",
       "      <th>16</th>\n",
       "      <td>16</td>\n",
       "      <td>Geocoded_City1</td>\n",
       "      <td>TEXT</td>\n",
       "      <td>0</td>\n",
       "      <td>None</td>\n",
       "      <td>0</td>\n",
       "    </tr>\n",
       "    <tr>\n",
       "      <th>17</th>\n",
       "      <td>17</td>\n",
       "      <td>Geocoded_City2</td>\n",
       "      <td>TEXT</td>\n",
       "      <td>0</td>\n",
       "      <td>None</td>\n",
       "      <td>0</td>\n",
       "    </tr>\n",
       "  </tbody>\n",
       "</table>\n",
       "</div>"
      ],
      "text/plain": [
       "    cid            name     type  notnull dflt_value  pk\n",
       "0     0            Year  INTEGER        0       None   0\n",
       "1     1         quarter  INTEGER        0       None   0\n",
       "2     2  citymarketid_1  INTEGER        0       None   0\n",
       "3     3  citymarketid_2  INTEGER        0       None   0\n",
       "4     4           city1     TEXT        0       None   0\n",
       "5     5           city2     TEXT        0       None   0\n",
       "6     6         nsmiles  INTEGER        0       None   0\n",
       "7     7      passengers  INTEGER        0       None   0\n",
       "8     8            fare     REAL        0       None   0\n",
       "9     9      carrier_lg     TEXT        0       None   0\n",
       "10   10        large_ms     REAL        0       None   0\n",
       "11   11         fare_lg     REAL        0       None   0\n",
       "12   12     carrier_low     TEXT        0       None   0\n",
       "13   13           lf_ms     REAL        0       None   0\n",
       "14   14        fare_low     REAL        0       None   0\n",
       "15   15    table_1_flag  INTEGER        0       None   0\n",
       "16   16  Geocoded_City1     TEXT        0       None   0\n",
       "17   17  Geocoded_City2     TEXT        0       None   0"
      ]
     },
     "execution_count": 2,
     "metadata": {},
     "output_type": "execute_result"
    }
   ],
   "source": [
    "%%sql \n",
    "PRAGMA table_info(airfare);"
   ]
  },
  {
   "cell_type": "markdown",
   "metadata": {},
   "source": [
    "Seems to be correct data types and all the columns are still here which is what we were looking for.\n",
    "\n",
    "We can start with the questions then"
   ]
  },
  {
   "cell_type": "markdown",
   "metadata": {},
   "source": [
    "1. What range of years are represented in the data?"
   ]
  },
  {
   "cell_type": "code",
   "execution_count": 4,
   "metadata": {
    "vscode": {
     "languageId": "sql"
    }
   },
   "outputs": [
    {
     "name": "stdout",
     "output_type": "stream",
     "text": [
      " * sqlite:///airfare.db\n",
      "Done.\n"
     ]
    },
    {
     "data": {
      "text/html": [
       "<div>\n",
       "<style scoped>\n",
       "    .dataframe tbody tr th:only-of-type {\n",
       "        vertical-align: middle;\n",
       "    }\n",
       "\n",
       "    .dataframe tbody tr th {\n",
       "        vertical-align: top;\n",
       "    }\n",
       "\n",
       "    .dataframe thead th {\n",
       "        text-align: right;\n",
       "    }\n",
       "</style>\n",
       "<table border=\"1\" class=\"dataframe\">\n",
       "  <thead>\n",
       "    <tr style=\"text-align: right;\">\n",
       "      <th></th>\n",
       "      <th>Year</th>\n",
       "    </tr>\n",
       "  </thead>\n",
       "  <tbody>\n",
       "    <tr>\n",
       "      <th>0</th>\n",
       "      <td>1996</td>\n",
       "    </tr>\n",
       "    <tr>\n",
       "      <th>1</th>\n",
       "      <td>1997</td>\n",
       "    </tr>\n",
       "    <tr>\n",
       "      <th>2</th>\n",
       "      <td>1998</td>\n",
       "    </tr>\n",
       "    <tr>\n",
       "      <th>3</th>\n",
       "      <td>1999</td>\n",
       "    </tr>\n",
       "    <tr>\n",
       "      <th>4</th>\n",
       "      <td>2000</td>\n",
       "    </tr>\n",
       "    <tr>\n",
       "      <th>5</th>\n",
       "      <td>2001</td>\n",
       "    </tr>\n",
       "    <tr>\n",
       "      <th>6</th>\n",
       "      <td>2002</td>\n",
       "    </tr>\n",
       "    <tr>\n",
       "      <th>7</th>\n",
       "      <td>2003</td>\n",
       "    </tr>\n",
       "    <tr>\n",
       "      <th>8</th>\n",
       "      <td>2004</td>\n",
       "    </tr>\n",
       "    <tr>\n",
       "      <th>9</th>\n",
       "      <td>2005</td>\n",
       "    </tr>\n",
       "    <tr>\n",
       "      <th>10</th>\n",
       "      <td>2006</td>\n",
       "    </tr>\n",
       "    <tr>\n",
       "      <th>11</th>\n",
       "      <td>2007</td>\n",
       "    </tr>\n",
       "    <tr>\n",
       "      <th>12</th>\n",
       "      <td>2008</td>\n",
       "    </tr>\n",
       "    <tr>\n",
       "      <th>13</th>\n",
       "      <td>2009</td>\n",
       "    </tr>\n",
       "    <tr>\n",
       "      <th>14</th>\n",
       "      <td>2010</td>\n",
       "    </tr>\n",
       "    <tr>\n",
       "      <th>15</th>\n",
       "      <td>2011</td>\n",
       "    </tr>\n",
       "    <tr>\n",
       "      <th>16</th>\n",
       "      <td>2012</td>\n",
       "    </tr>\n",
       "    <tr>\n",
       "      <th>17</th>\n",
       "      <td>2013</td>\n",
       "    </tr>\n",
       "    <tr>\n",
       "      <th>18</th>\n",
       "      <td>2014</td>\n",
       "    </tr>\n",
       "    <tr>\n",
       "      <th>19</th>\n",
       "      <td>2015</td>\n",
       "    </tr>\n",
       "    <tr>\n",
       "      <th>20</th>\n",
       "      <td>2016</td>\n",
       "    </tr>\n",
       "    <tr>\n",
       "      <th>21</th>\n",
       "      <td>2017</td>\n",
       "    </tr>\n",
       "    <tr>\n",
       "      <th>22</th>\n",
       "      <td>2018</td>\n",
       "    </tr>\n",
       "  </tbody>\n",
       "</table>\n",
       "</div>"
      ],
      "text/plain": [
       "    Year\n",
       "0   1996\n",
       "1   1997\n",
       "2   1998\n",
       "3   1999\n",
       "4   2000\n",
       "5   2001\n",
       "6   2002\n",
       "7   2003\n",
       "8   2004\n",
       "9   2005\n",
       "10  2006\n",
       "11  2007\n",
       "12  2008\n",
       "13  2009\n",
       "14  2010\n",
       "15  2011\n",
       "16  2012\n",
       "17  2013\n",
       "18  2014\n",
       "19  2015\n",
       "20  2016\n",
       "21  2017\n",
       "22  2018"
      ]
     },
     "execution_count": 4,
     "metadata": {},
     "output_type": "execute_result"
    }
   ],
   "source": [
    "%%sql\n",
    "SELECT DISTINCT Year FROM airfare ORDER BY Year ASC;"
   ]
  },
  {
   "cell_type": "markdown",
   "metadata": {},
   "source": [
    "2. What are the shortest and longest-distanced flights, and between which 2 cities are they?"
   ]
  },
  {
   "cell_type": "code",
   "execution_count": 13,
   "metadata": {
    "vscode": {
     "languageId": "sql"
    }
   },
   "outputs": [
    {
     "name": "stdout",
     "output_type": "stream",
     "text": [
      " * sqlite:///airfare.db\n",
      "Done.\n"
     ]
    },
    {
     "data": {
      "text/html": [
       "<div>\n",
       "<style scoped>\n",
       "    .dataframe tbody tr th:only-of-type {\n",
       "        vertical-align: middle;\n",
       "    }\n",
       "\n",
       "    .dataframe tbody tr th {\n",
       "        vertical-align: top;\n",
       "    }\n",
       "\n",
       "    .dataframe thead th {\n",
       "        text-align: right;\n",
       "    }\n",
       "</style>\n",
       "<table border=\"1\" class=\"dataframe\">\n",
       "  <thead>\n",
       "    <tr style=\"text-align: right;\">\n",
       "      <th></th>\n",
       "      <th>city1</th>\n",
       "      <th>city2</th>\n",
       "      <th>nsmiles</th>\n",
       "    </tr>\n",
       "  </thead>\n",
       "  <tbody>\n",
       "    <tr>\n",
       "      <th>0</th>\n",
       "      <td>Los Angeles, CA (Metropolitan Area)</td>\n",
       "      <td>San Diego, CA</td>\n",
       "      <td>109</td>\n",
       "    </tr>\n",
       "    <tr>\n",
       "      <th>1</th>\n",
       "      <td>Miami, FL (Metropolitan Area)</td>\n",
       "      <td>Seattle, WA</td>\n",
       "      <td>2724</td>\n",
       "    </tr>\n",
       "  </tbody>\n",
       "</table>\n",
       "</div>"
      ],
      "text/plain": [
       "                                 city1          city2  nsmiles\n",
       "0  Los Angeles, CA (Metropolitan Area)  San Diego, CA      109\n",
       "1        Miami, FL (Metropolitan Area)    Seattle, WA     2724"
      ]
     },
     "execution_count": 13,
     "metadata": {},
     "output_type": "execute_result"
    }
   ],
   "source": [
    "%%sql\n",
    "SELECT city1, city2, nsmiles\n",
    "FROM airfare\n",
    "WHERE nsmiles IN (\n",
    "    SELECT MAX(nsmiles) FROM airfare\n",
    "    UNION\n",
    "    SELECT MIN(nsmiles) FROM airfare\n",
    ")\n",
    "-- This is just incase city1 or city2 both appear in the min and max distance flights\n",
    "-- Also helps with the same duos appearing from multiple year/quarter \n",
    "GROUP BY city1, city2\n",
    "ORDER BY nsmiles ASC;"
   ]
  },
  {
   "cell_type": "markdown",
   "metadata": {},
   "source": [
    "3. How many distinct cities are represented in the data (regardless of whether it is the source or destination)?"
   ]
  },
  {
   "cell_type": "code",
   "execution_count": 19,
   "metadata": {
    "vscode": {
     "languageId": "sql"
    }
   },
   "outputs": [
    {
     "name": "stdout",
     "output_type": "stream",
     "text": [
      " * sqlite:///airfare.db\n",
      "Done.\n"
     ]
    },
    {
     "data": {
      "text/html": [
       "<div>\n",
       "<style scoped>\n",
       "    .dataframe tbody tr th:only-of-type {\n",
       "        vertical-align: middle;\n",
       "    }\n",
       "\n",
       "    .dataframe tbody tr th {\n",
       "        vertical-align: top;\n",
       "    }\n",
       "\n",
       "    .dataframe thead th {\n",
       "        text-align: right;\n",
       "    }\n",
       "</style>\n",
       "<table border=\"1\" class=\"dataframe\">\n",
       "  <thead>\n",
       "    <tr style=\"text-align: right;\">\n",
       "      <th></th>\n",
       "      <th>total_cities</th>\n",
       "    </tr>\n",
       "  </thead>\n",
       "  <tbody>\n",
       "    <tr>\n",
       "      <th>0</th>\n",
       "      <td>266</td>\n",
       "    </tr>\n",
       "  </tbody>\n",
       "</table>\n",
       "</div>"
      ],
      "text/plain": [
       "   total_cities\n",
       "0           266"
      ]
     },
     "execution_count": 19,
     "metadata": {},
     "output_type": "execute_result"
    }
   ],
   "source": [
    "%%sql\n",
    "SELECT \n",
    "    (SELECT COUNT(DISTINCT city1) FROM airfare) +\n",
    "    (SELECT COUNT(DISTINCT city2) FROM airfare) AS total_cities;"
   ]
  },
  {
   "cell_type": "markdown",
   "metadata": {},
   "source": [
    "4. Which airline appear most frequently as the carrier with the lowest fare (ie. carrier_low)? How about the airline with the largest market share (ie. carrier_lg)?"
   ]
  },
  {
   "cell_type": "code",
   "execution_count": 30,
   "metadata": {
    "vscode": {
     "languageId": "sql"
    }
   },
   "outputs": [
    {
     "name": "stdout",
     "output_type": "stream",
     "text": [
      " * sqlite:///airfare.db\n",
      "Done.\n"
     ]
    },
    {
     "data": {
      "text/html": [
       "<div>\n",
       "<style scoped>\n",
       "    .dataframe tbody tr th:only-of-type {\n",
       "        vertical-align: middle;\n",
       "    }\n",
       "\n",
       "    .dataframe tbody tr th {\n",
       "        vertical-align: top;\n",
       "    }\n",
       "\n",
       "    .dataframe thead th {\n",
       "        text-align: right;\n",
       "    }\n",
       "</style>\n",
       "<table border=\"1\" class=\"dataframe\">\n",
       "  <thead>\n",
       "    <tr style=\"text-align: right;\">\n",
       "      <th></th>\n",
       "      <th>carrier_name</th>\n",
       "      <th>frequency</th>\n",
       "    </tr>\n",
       "  </thead>\n",
       "  <tbody>\n",
       "    <tr>\n",
       "      <th>0</th>\n",
       "      <td>WN</td>\n",
       "      <td>29652</td>\n",
       "    </tr>\n",
       "  </tbody>\n",
       "</table>\n",
       "</div>"
      ],
      "text/plain": [
       "  carrier_name  frequency\n",
       "0           WN      29652"
      ]
     },
     "execution_count": 30,
     "metadata": {},
     "output_type": "execute_result"
    }
   ],
   "source": [
    "%%sql\n",
    "-- Most freq lowest fare\n",
    "SELECT carrier_low AS 'carrier_name', COUNT(*) AS 'frequency'\n",
    "FROM airfare\n",
    "GROUP BY carrier_low\n",
    "ORDER BY frequency DESC\n",
    "LIMIT 1;"
   ]
  },
  {
   "cell_type": "code",
   "execution_count": 29,
   "metadata": {
    "vscode": {
     "languageId": "sql"
    }
   },
   "outputs": [
    {
     "name": "stdout",
     "output_type": "stream",
     "text": [
      " * sqlite:///airfare.db\n",
      "Done.\n"
     ]
    },
    {
     "data": {
      "text/html": [
       "<div>\n",
       "<style scoped>\n",
       "    .dataframe tbody tr th:only-of-type {\n",
       "        vertical-align: middle;\n",
       "    }\n",
       "\n",
       "    .dataframe tbody tr th {\n",
       "        vertical-align: top;\n",
       "    }\n",
       "\n",
       "    .dataframe thead th {\n",
       "        text-align: right;\n",
       "    }\n",
       "</style>\n",
       "<table border=\"1\" class=\"dataframe\">\n",
       "  <thead>\n",
       "    <tr style=\"text-align: right;\">\n",
       "      <th></th>\n",
       "      <th>carrier_name</th>\n",
       "      <th>frequency</th>\n",
       "    </tr>\n",
       "  </thead>\n",
       "  <tbody>\n",
       "    <tr>\n",
       "      <th>0</th>\n",
       "      <td>WN</td>\n",
       "      <td>23659</td>\n",
       "    </tr>\n",
       "  </tbody>\n",
       "</table>\n",
       "</div>"
      ],
      "text/plain": [
       "  carrier_name  frequency\n",
       "0           WN      23659"
      ]
     },
     "execution_count": 29,
     "metadata": {},
     "output_type": "execute_result"
    }
   ],
   "source": [
    "%%sql\n",
    "-- Most freq highest market share\n",
    "SELECT carrier_lg AS 'carrier_name', COUNT(*) AS 'frequency'\n",
    "FROM airfare\n",
    "GROUP BY carrier_lg\n",
    "ORDER BY frequency DESC\n",
    "LIMIT 1;"
   ]
  },
  {
   "cell_type": "markdown",
   "metadata": {},
   "source": [
    "5. How many instances are there where the carrier with the largest market share is not the carrier with the lowest fare? What is the average difference in fare?"
   ]
  },
  {
   "cell_type": "markdown",
   "metadata": {},
   "source": [
    "We'll asumme that the carrier with the lowest fare's fare is 'fare_low' and the carrier with the highest market share's fare is 'fare_lg' while 'fare' may just be the average fare."
   ]
  },
  {
   "cell_type": "code",
   "execution_count": 34,
   "metadata": {
    "vscode": {
     "languageId": "sql"
    }
   },
   "outputs": [
    {
     "name": "stdout",
     "output_type": "stream",
     "text": [
      " * sqlite:///airfare.db\n",
      "Done.\n"
     ]
    },
    {
     "data": {
      "text/html": [
       "<div>\n",
       "<style scoped>\n",
       "    .dataframe tbody tr th:only-of-type {\n",
       "        vertical-align: middle;\n",
       "    }\n",
       "\n",
       "    .dataframe tbody tr th {\n",
       "        vertical-align: top;\n",
       "    }\n",
       "\n",
       "    .dataframe thead th {\n",
       "        text-align: right;\n",
       "    }\n",
       "</style>\n",
       "<table border=\"1\" class=\"dataframe\">\n",
       "  <thead>\n",
       "    <tr style=\"text-align: right;\">\n",
       "      <th></th>\n",
       "      <th>COUNT(*)</th>\n",
       "      <th>avg_fare_diff</th>\n",
       "    </tr>\n",
       "  </thead>\n",
       "  <tbody>\n",
       "    <tr>\n",
       "      <th>0</th>\n",
       "      <td>59851</td>\n",
       "      <td>49.46</td>\n",
       "    </tr>\n",
       "  </tbody>\n",
       "</table>\n",
       "</div>"
      ],
      "text/plain": [
       "   COUNT(*)  avg_fare_diff\n",
       "0     59851          49.46"
      ]
     },
     "execution_count": 34,
     "metadata": {},
     "output_type": "execute_result"
    }
   ],
   "source": [
    "%%sql\n",
    "SELECT COUNT(*), ROUND(AVG(fare_lg - fare_low), 2) AS 'avg_fare_diff'\n",
    "FROM airfare\n",
    "WHERE carrier_low != carrier_lg;"
   ]
  },
  {
   "cell_type": "markdown",
   "metadata": {},
   "source": [
    "6. What is the percent change in average fare from 2007 to 2017 by flight? How about from 1997 to 2017?"
   ]
  },
  {
   "cell_type": "markdown",
   "metadata": {},
   "source": [
    "Since it is 'by flight' we want the avg of 'fare' (assumed to be the average fare for that quater from city1 to city2) for that year grouped by the city1/city2 duo"
   ]
  },
  {
   "cell_type": "code",
   "execution_count": 48,
   "metadata": {
    "vscode": {
     "languageId": "sql"
    }
   },
   "outputs": [
    {
     "name": "stdout",
     "output_type": "stream",
     "text": [
      " * sqlite:///airfare.db\n",
      "Done.\n"
     ]
    },
    {
     "data": {
      "text/html": [
       "<div>\n",
       "<style scoped>\n",
       "    .dataframe tbody tr th:only-of-type {\n",
       "        vertical-align: middle;\n",
       "    }\n",
       "\n",
       "    .dataframe tbody tr th {\n",
       "        vertical-align: top;\n",
       "    }\n",
       "\n",
       "    .dataframe thead th {\n",
       "        text-align: right;\n",
       "    }\n",
       "</style>\n",
       "<table border=\"1\" class=\"dataframe\">\n",
       "  <thead>\n",
       "    <tr style=\"text-align: right;\">\n",
       "      <th></th>\n",
       "      <th>city1</th>\n",
       "      <th>city2</th>\n",
       "      <th>2007avg</th>\n",
       "      <th>2017avg</th>\n",
       "      <th>Percent Change</th>\n",
       "    </tr>\n",
       "  </thead>\n",
       "  <tbody>\n",
       "    <tr>\n",
       "      <th>0</th>\n",
       "      <td>Aspen, CO</td>\n",
       "      <td>New York City, NY (Metropolitan Area)</td>\n",
       "      <td>402.1800</td>\n",
       "      <td>540.4500</td>\n",
       "      <td>34.38</td>\n",
       "    </tr>\n",
       "    <tr>\n",
       "      <th>1</th>\n",
       "      <td>Eagle, CO</td>\n",
       "      <td>New York City, NY (Metropolitan Area)</td>\n",
       "      <td>388.8900</td>\n",
       "      <td>506.1600</td>\n",
       "      <td>30.16</td>\n",
       "    </tr>\n",
       "    <tr>\n",
       "      <th>2</th>\n",
       "      <td>Los Angeles, CA (Metropolitan Area)</td>\n",
       "      <td>New York City, NY (Metropolitan Area)</td>\n",
       "      <td>317.2550</td>\n",
       "      <td>376.7075</td>\n",
       "      <td>18.74</td>\n",
       "    </tr>\n",
       "    <tr>\n",
       "      <th>3</th>\n",
       "      <td>Philadelphia, PA</td>\n",
       "      <td>San Francisco, CA (Metropolitan Area)</td>\n",
       "      <td>284.4775</td>\n",
       "      <td>365.5725</td>\n",
       "      <td>28.51</td>\n",
       "    </tr>\n",
       "    <tr>\n",
       "      <th>4</th>\n",
       "      <td>San Francisco, CA (Metropolitan Area)</td>\n",
       "      <td>Washington, DC (Metropolitan Area)</td>\n",
       "      <td>300.1650</td>\n",
       "      <td>359.1050</td>\n",
       "      <td>19.64</td>\n",
       "    </tr>\n",
       "    <tr>\n",
       "      <th>...</th>\n",
       "      <td>...</td>\n",
       "      <td>...</td>\n",
       "      <td>...</td>\n",
       "      <td>...</td>\n",
       "      <td>...</td>\n",
       "    </tr>\n",
       "    <tr>\n",
       "      <th>975</th>\n",
       "      <td>Atlantic City, NJ</td>\n",
       "      <td>Fort Myers, FL</td>\n",
       "      <td>121.8600</td>\n",
       "      <td>98.8800</td>\n",
       "      <td>-18.86</td>\n",
       "    </tr>\n",
       "    <tr>\n",
       "      <th>976</th>\n",
       "      <td>Bellingham, WA</td>\n",
       "      <td>Las Vegas, NV</td>\n",
       "      <td>125.3450</td>\n",
       "      <td>96.6575</td>\n",
       "      <td>-22.89</td>\n",
       "    </tr>\n",
       "    <tr>\n",
       "      <th>977</th>\n",
       "      <td>Allentown/Bethlehem/Easton, PA</td>\n",
       "      <td>Sanford, FL</td>\n",
       "      <td>104.4225</td>\n",
       "      <td>91.1975</td>\n",
       "      <td>-12.66</td>\n",
       "    </tr>\n",
       "    <tr>\n",
       "      <th>978</th>\n",
       "      <td>Atlantic City, NJ</td>\n",
       "      <td>Miami, FL (Metropolitan Area)</td>\n",
       "      <td>129.2425</td>\n",
       "      <td>87.4125</td>\n",
       "      <td>-32.37</td>\n",
       "    </tr>\n",
       "    <tr>\n",
       "      <th>979</th>\n",
       "      <td>Atlantic City, NJ</td>\n",
       "      <td>Orlando, FL</td>\n",
       "      <td>116.6250</td>\n",
       "      <td>85.0150</td>\n",
       "      <td>-27.10</td>\n",
       "    </tr>\n",
       "  </tbody>\n",
       "</table>\n",
       "<p>980 rows × 5 columns</p>\n",
       "</div>"
      ],
      "text/plain": [
       "                                     city1  \\\n",
       "0                                Aspen, CO   \n",
       "1                                Eagle, CO   \n",
       "2      Los Angeles, CA (Metropolitan Area)   \n",
       "3                         Philadelphia, PA   \n",
       "4    San Francisco, CA (Metropolitan Area)   \n",
       "..                                     ...   \n",
       "975                      Atlantic City, NJ   \n",
       "976                         Bellingham, WA   \n",
       "977         Allentown/Bethlehem/Easton, PA   \n",
       "978                      Atlantic City, NJ   \n",
       "979                      Atlantic City, NJ   \n",
       "\n",
       "                                     city2   2007avg   2017avg  Percent Change  \n",
       "0    New York City, NY (Metropolitan Area)  402.1800  540.4500           34.38  \n",
       "1    New York City, NY (Metropolitan Area)  388.8900  506.1600           30.16  \n",
       "2    New York City, NY (Metropolitan Area)  317.2550  376.7075           18.74  \n",
       "3    San Francisco, CA (Metropolitan Area)  284.4775  365.5725           28.51  \n",
       "4       Washington, DC (Metropolitan Area)  300.1650  359.1050           19.64  \n",
       "..                                     ...       ...       ...             ...  \n",
       "975                         Fort Myers, FL  121.8600   98.8800          -18.86  \n",
       "976                          Las Vegas, NV  125.3450   96.6575          -22.89  \n",
       "977                            Sanford, FL  104.4225   91.1975          -12.66  \n",
       "978          Miami, FL (Metropolitan Area)  129.2425   87.4125          -32.37  \n",
       "979                            Orlando, FL  116.6250   85.0150          -27.10  \n",
       "\n",
       "[980 rows x 5 columns]"
      ]
     },
     "execution_count": 48,
     "metadata": {},
     "output_type": "execute_result"
    }
   ],
   "source": [
    "%%sql\n",
    "WITH avg_2007 AS (\n",
    "    SELECT year, city1, city2, AVG(fare) AS \"2007avg\"\n",
    "    FROM airfare\n",
    "    WHERE Year = 2007\n",
    "    GROUP BY city1, city2\n",
    "),\n",
    "avg_2017 AS (\n",
    "    SELECT year, city1, city2, AVG(fare) AS \"2017avg\"\n",
    "    FROM airfare\n",
    "    WHERE Year = 2017\n",
    "    GROUP BY city1, city2 \n",
    ")\n",
    "-- Need to use \"\" here to make sure it uses the column alias properly\n",
    "SELECT avg_2007.city1, avg_2007.city2, \"2007avg\", \"2017avg\",\n",
    "    ROUND((( \"2017avg\" - \"2007avg\" ) / \"2007avg\") * 100, 2) AS 'Percent Change'\n",
    "FROM avg_2007\n",
    "JOIN avg_2017 ON \n",
    "    avg_2007.city1 = avg_2017.city1 AND\n",
    "    avg_2007.city2 = avg_2017.city2\n",
    "ORDER BY 4 DESC;"
   ]
  },
  {
   "cell_type": "markdown",
   "metadata": {},
   "source": [
    "This gets us the change for each flight but we can also calculate the avg of this percent change"
   ]
  },
  {
   "cell_type": "code",
   "execution_count": 49,
   "metadata": {
    "vscode": {
     "languageId": "sql"
    }
   },
   "outputs": [
    {
     "name": "stdout",
     "output_type": "stream",
     "text": [
      " * sqlite:///airfare.db\n",
      "Done.\n"
     ]
    },
    {
     "data": {
      "text/html": [
       "<div>\n",
       "<style scoped>\n",
       "    .dataframe tbody tr th:only-of-type {\n",
       "        vertical-align: middle;\n",
       "    }\n",
       "\n",
       "    .dataframe tbody tr th {\n",
       "        vertical-align: top;\n",
       "    }\n",
       "\n",
       "    .dataframe thead th {\n",
       "        text-align: right;\n",
       "    }\n",
       "</style>\n",
       "<table border=\"1\" class=\"dataframe\">\n",
       "  <thead>\n",
       "    <tr style=\"text-align: right;\">\n",
       "      <th></th>\n",
       "      <th>Average Change</th>\n",
       "    </tr>\n",
       "  </thead>\n",
       "  <tbody>\n",
       "    <tr>\n",
       "      <th>0</th>\n",
       "      <td>22.4</td>\n",
       "    </tr>\n",
       "  </tbody>\n",
       "</table>\n",
       "</div>"
      ],
      "text/plain": [
       "   Average Change\n",
       "0            22.4"
      ]
     },
     "execution_count": 49,
     "metadata": {},
     "output_type": "execute_result"
    }
   ],
   "source": [
    "%%sql\n",
    "WITH avg_2007 AS (\n",
    "    SELECT year, city1, city2, AVG(fare) AS \"2007avg\"\n",
    "    FROM airfare\n",
    "    WHERE Year = 2007\n",
    "    GROUP BY city1, city2\n",
    "),\n",
    "avg_2017 AS (\n",
    "    SELECT year, city1, city2, AVG(fare) AS \"2017avg\"\n",
    "    FROM airfare\n",
    "    WHERE Year = 2017\n",
    "    GROUP BY city1, city2 \n",
    "),\n",
    "change_avg AS ( \n",
    "-- Need to use \"\" here to make sure it uses the column alias properly\n",
    "    SELECT avg_2007.city1, avg_2007.city2, \"2007avg\", \"2017avg\",\n",
    "        (( \"2017avg\" - \"2007avg\" ) / \"2007avg\") * 100 AS 'percent_change'\n",
    "    FROM avg_2007\n",
    "    JOIN avg_2017 ON \n",
    "        avg_2007.city1 = avg_2017.city1 AND\n",
    "        avg_2007.city2 = avg_2017.city2\n",
    "    ORDER BY 4 DESC\n",
    ")\n",
    "SELECT ROUND(AVG(percent_change), 2) AS 'Average Change' FROM change_avg;"
   ]
  },
  {
   "cell_type": "markdown",
   "metadata": {},
   "source": [
    "Now let's just get the average percent change from 1997 to 2017."
   ]
  },
  {
   "cell_type": "code",
   "execution_count": 50,
   "metadata": {
    "vscode": {
     "languageId": "sql"
    }
   },
   "outputs": [
    {
     "name": "stdout",
     "output_type": "stream",
     "text": [
      " * sqlite:///airfare.db\n",
      "Done.\n"
     ]
    },
    {
     "data": {
      "text/html": [
       "<div>\n",
       "<style scoped>\n",
       "    .dataframe tbody tr th:only-of-type {\n",
       "        vertical-align: middle;\n",
       "    }\n",
       "\n",
       "    .dataframe tbody tr th {\n",
       "        vertical-align: top;\n",
       "    }\n",
       "\n",
       "    .dataframe thead th {\n",
       "        text-align: right;\n",
       "    }\n",
       "</style>\n",
       "<table border=\"1\" class=\"dataframe\">\n",
       "  <thead>\n",
       "    <tr style=\"text-align: right;\">\n",
       "      <th></th>\n",
       "      <th>Average Change</th>\n",
       "    </tr>\n",
       "  </thead>\n",
       "  <tbody>\n",
       "    <tr>\n",
       "      <th>0</th>\n",
       "      <td>32.54</td>\n",
       "    </tr>\n",
       "  </tbody>\n",
       "</table>\n",
       "</div>"
      ],
      "text/plain": [
       "   Average Change\n",
       "0           32.54"
      ]
     },
     "execution_count": 50,
     "metadata": {},
     "output_type": "execute_result"
    }
   ],
   "source": [
    "%%sql\n",
    "WITH avg_1997 AS (\n",
    "    SELECT year, city1, city2, AVG(fare) AS \"1997avg\"\n",
    "    FROM airfare\n",
    "    WHERE Year = 1997\n",
    "    GROUP BY city1, city2\n",
    "),\n",
    "avg_2017 AS (\n",
    "    SELECT year, city1, city2, AVG(fare) AS \"2017avg\"\n",
    "    FROM airfare\n",
    "    WHERE Year = 2017\n",
    "    GROUP BY city1, city2 \n",
    "),\n",
    "change_avg AS ( \n",
    "-- Need to use \"\" here to make sure it uses the column alias properly\n",
    "    SELECT avg_1997.city1, avg_1997.city2, \"1997avg\", \"2017avg\",\n",
    "        (( \"2017avg\" - \"1997avg\" ) / \"1997avg\") * 100 AS 'percent_change'\n",
    "    FROM avg_1997\n",
    "    JOIN avg_2017 ON \n",
    "        avg_1997.city1 = avg_2017.city1 AND\n",
    "        avg_1997.city2 = avg_2017.city2\n",
    "    ORDER BY 4 DESC\n",
    ")\n",
    "SELECT ROUND(AVG(percent_change), 2) AS 'Average Change' FROM change_avg;"
   ]
  },
  {
   "cell_type": "markdown",
   "metadata": {},
   "source": [
    "7. How would you describe the overall trend in airfares from 1997 to 2017, as compared 2007 to 2017?"
   ]
  },
  {
   "cell_type": "markdown",
   "metadata": {},
   "source": [
    "The % change from 1997 to 2017 was about 32.5% and from 2007 to 2017 it was about 22.4%. This to shows that flights are getting more expensive more rapidly in recent times than from before. If it was linear then we should expect the 1997-2017 change to be twice as big as the 2007-2017 change but it's only about 50% bigger. Although there could be others things at play too during the specific years chosen which could have made flights unregularly cheaper/expensive compared to normal. The rest of the years would also have to be analyzed for more concrete answers. Since it is beyond the scope of these questions that idea won't be analyzed right now though. "
   ]
  },
  {
   "cell_type": "markdown",
   "metadata": {},
   "source": [
    "8. What is the average fare for each quarter? Which quarter of the year has the highest overall average fare? lowest?"
   ]
  },
  {
   "cell_type": "code",
   "execution_count": 52,
   "metadata": {
    "vscode": {
     "languageId": "sql"
    }
   },
   "outputs": [
    {
     "name": "stdout",
     "output_type": "stream",
     "text": [
      " * sqlite:///airfare.db\n",
      "Done.\n"
     ]
    },
    {
     "data": {
      "text/html": [
       "<div>\n",
       "<style scoped>\n",
       "    .dataframe tbody tr th:only-of-type {\n",
       "        vertical-align: middle;\n",
       "    }\n",
       "\n",
       "    .dataframe tbody tr th {\n",
       "        vertical-align: top;\n",
       "    }\n",
       "\n",
       "    .dataframe thead th {\n",
       "        text-align: right;\n",
       "    }\n",
       "</style>\n",
       "<table border=\"1\" class=\"dataframe\">\n",
       "  <thead>\n",
       "    <tr style=\"text-align: right;\">\n",
       "      <th></th>\n",
       "      <th>quarter</th>\n",
       "      <th>avg_fare</th>\n",
       "    </tr>\n",
       "  </thead>\n",
       "  <tbody>\n",
       "    <tr>\n",
       "      <th>0</th>\n",
       "      <td>1</td>\n",
       "      <td>195.790766</td>\n",
       "    </tr>\n",
       "    <tr>\n",
       "      <th>1</th>\n",
       "      <td>2</td>\n",
       "      <td>195.025648</td>\n",
       "    </tr>\n",
       "    <tr>\n",
       "      <th>2</th>\n",
       "      <td>3</td>\n",
       "      <td>191.310672</td>\n",
       "    </tr>\n",
       "    <tr>\n",
       "      <th>3</th>\n",
       "      <td>4</td>\n",
       "      <td>190.442071</td>\n",
       "    </tr>\n",
       "  </tbody>\n",
       "</table>\n",
       "</div>"
      ],
      "text/plain": [
       "   quarter    avg_fare\n",
       "0        1  195.790766\n",
       "1        2  195.025648\n",
       "2        3  191.310672\n",
       "3        4  190.442071"
      ]
     },
     "execution_count": 52,
     "metadata": {},
     "output_type": "execute_result"
    }
   ],
   "source": [
    "%%sql\n",
    "WITH AVGFare AS (\n",
    "    SELECT quarter, AVG(fare) AS 'avg_fare'\n",
    "    FROM airfare\n",
    "    GROUP BY quarter\n",
    ")\n",
    "SELECt * FROM AVGFare ORDER BY avg_fare DESC;\n"
   ]
  },
  {
   "cell_type": "markdown",
   "metadata": {},
   "source": [
    "A bit surprising that summer doesn't have a higher average since a lot of people go on vacation during it but there's probably a lot of deals too so the cost may come down due to demand.\n",
    "\n",
    "Also interesting that the average fare is ordered (highest to lowest) in the order of the year. "
   ]
  },
  {
   "cell_type": "markdown",
   "metadata": {},
   "source": [
    "9. Considering only the flights that have data available on all 4 quarters of the year, which quarter has the highest overall average fare? lowest? Try breaking it down by year as well."
   ]
  },
  {
   "cell_type": "markdown",
   "metadata": {},
   "source": [
    "I am only going to use the flight/year combinations where we have data for that flight in all quarters of that year. If we have data in quarters 1 and 4 in 1999 and quarters 2 and 3 in 2007 I will not use those years of that flight."
   ]
  },
  {
   "cell_type": "code",
   "execution_count": 6,
   "metadata": {
    "vscode": {
     "languageId": "sql"
    }
   },
   "outputs": [
    {
     "name": "stdout",
     "output_type": "stream",
     "text": [
      " * sqlite:///airfare.db\n",
      "Done.\n"
     ]
    },
    {
     "data": {
      "text/html": [
       "<div>\n",
       "<style scoped>\n",
       "    .dataframe tbody tr th:only-of-type {\n",
       "        vertical-align: middle;\n",
       "    }\n",
       "\n",
       "    .dataframe tbody tr th {\n",
       "        vertical-align: top;\n",
       "    }\n",
       "\n",
       "    .dataframe thead th {\n",
       "        text-align: right;\n",
       "    }\n",
       "</style>\n",
       "<table border=\"1\" class=\"dataframe\">\n",
       "  <thead>\n",
       "    <tr style=\"text-align: right;\">\n",
       "      <th></th>\n",
       "      <th>quarter</th>\n",
       "      <th>avg_fare</th>\n",
       "    </tr>\n",
       "  </thead>\n",
       "  <tbody>\n",
       "    <tr>\n",
       "      <th>0</th>\n",
       "      <td>1</td>\n",
       "      <td>195.422714</td>\n",
       "    </tr>\n",
       "    <tr>\n",
       "      <th>1</th>\n",
       "      <td>2</td>\n",
       "      <td>192.840047</td>\n",
       "    </tr>\n",
       "    <tr>\n",
       "      <th>2</th>\n",
       "      <td>4</td>\n",
       "      <td>189.570557</td>\n",
       "    </tr>\n",
       "    <tr>\n",
       "      <th>3</th>\n",
       "      <td>3</td>\n",
       "      <td>189.288765</td>\n",
       "    </tr>\n",
       "  </tbody>\n",
       "</table>\n",
       "</div>"
      ],
      "text/plain": [
       "   quarter    avg_fare\n",
       "0        1  195.422714\n",
       "1        2  192.840047\n",
       "2        4  189.570557\n",
       "3        3  189.288765"
      ]
     },
     "execution_count": 6,
     "metadata": {},
     "output_type": "execute_result"
    }
   ],
   "source": [
    "%%sql\n",
    "WITH AVGFare AS (\n",
    "    SELECT quarter, AVG(fare) AS 'avg_fare'\n",
    "    FROM airfare\n",
    "    -- Find only the years where we have data in each quarter for a flight\n",
    "    WHERE (city1, city2, year) IN (\n",
    "        SELECT city1, city2, year\n",
    "        FROM airfare\n",
    "        GROUP BY city1, city2, year\n",
    "        HAVING COUNT(*) = 4\n",
    "    )\n",
    "    GROUP BY quarter\n",
    ")\n",
    "SELECT * FROM AVGFare ORDER BY avg_fare DESC;"
   ]
  },
  {
   "cell_type": "markdown",
   "metadata": {},
   "source": [
    "I'm not sure if the second part of the question (try breaking it down by year) is what I am currently doing or if the question is looking for the avgerage fares for those years but I'll calculate the average for the years just in case.\n",
    "\n",
    "I'm going to continue using the same filtering method I used before too"
   ]
  },
  {
   "cell_type": "code",
   "execution_count": 8,
   "metadata": {
    "vscode": {
     "languageId": "sql"
    }
   },
   "outputs": [
    {
     "name": "stdout",
     "output_type": "stream",
     "text": [
      " * sqlite:///airfare.db\n",
      "Done.\n"
     ]
    },
    {
     "data": {
      "text/html": [
       "<div>\n",
       "<style scoped>\n",
       "    .dataframe tbody tr th:only-of-type {\n",
       "        vertical-align: middle;\n",
       "    }\n",
       "\n",
       "    .dataframe tbody tr th {\n",
       "        vertical-align: top;\n",
       "    }\n",
       "\n",
       "    .dataframe thead th {\n",
       "        text-align: right;\n",
       "    }\n",
       "</style>\n",
       "<table border=\"1\" class=\"dataframe\">\n",
       "  <thead>\n",
       "    <tr style=\"text-align: right;\">\n",
       "      <th></th>\n",
       "      <th>year</th>\n",
       "      <th>avg_fare</th>\n",
       "    </tr>\n",
       "  </thead>\n",
       "  <tbody>\n",
       "    <tr>\n",
       "      <th>0</th>\n",
       "      <td>2014</td>\n",
       "      <td>229.424639</td>\n",
       "    </tr>\n",
       "    <tr>\n",
       "      <th>1</th>\n",
       "      <td>2015</td>\n",
       "      <td>225.543353</td>\n",
       "    </tr>\n",
       "    <tr>\n",
       "      <th>2</th>\n",
       "      <td>2013</td>\n",
       "      <td>221.298361</td>\n",
       "    </tr>\n",
       "    <tr>\n",
       "      <th>3</th>\n",
       "      <td>2016</td>\n",
       "      <td>218.515525</td>\n",
       "    </tr>\n",
       "    <tr>\n",
       "      <th>4</th>\n",
       "      <td>2012</td>\n",
       "      <td>216.981949</td>\n",
       "    </tr>\n",
       "    <tr>\n",
       "      <th>5</th>\n",
       "      <td>2017</td>\n",
       "      <td>216.357799</td>\n",
       "    </tr>\n",
       "    <tr>\n",
       "      <th>6</th>\n",
       "      <td>2011</td>\n",
       "      <td>207.904742</td>\n",
       "    </tr>\n",
       "    <tr>\n",
       "      <th>7</th>\n",
       "      <td>2008</td>\n",
       "      <td>192.035186</td>\n",
       "    </tr>\n",
       "    <tr>\n",
       "      <th>8</th>\n",
       "      <td>2010</td>\n",
       "      <td>191.297082</td>\n",
       "    </tr>\n",
       "    <tr>\n",
       "      <th>9</th>\n",
       "      <td>2000</td>\n",
       "      <td>191.165825</td>\n",
       "    </tr>\n",
       "    <tr>\n",
       "      <th>10</th>\n",
       "      <td>1999</td>\n",
       "      <td>185.052385</td>\n",
       "    </tr>\n",
       "    <tr>\n",
       "      <th>11</th>\n",
       "      <td>1998</td>\n",
       "      <td>182.710385</td>\n",
       "    </tr>\n",
       "    <tr>\n",
       "      <th>12</th>\n",
       "      <td>2006</td>\n",
       "      <td>181.807154</td>\n",
       "    </tr>\n",
       "    <tr>\n",
       "      <th>13</th>\n",
       "      <td>2007</td>\n",
       "      <td>181.206653</td>\n",
       "    </tr>\n",
       "    <tr>\n",
       "      <th>14</th>\n",
       "      <td>1997</td>\n",
       "      <td>177.023449</td>\n",
       "    </tr>\n",
       "    <tr>\n",
       "      <th>15</th>\n",
       "      <td>2001</td>\n",
       "      <td>176.350548</td>\n",
       "    </tr>\n",
       "    <tr>\n",
       "      <th>16</th>\n",
       "      <td>2009</td>\n",
       "      <td>173.419222</td>\n",
       "    </tr>\n",
       "    <tr>\n",
       "      <th>17</th>\n",
       "      <td>1996</td>\n",
       "      <td>171.694972</td>\n",
       "    </tr>\n",
       "    <tr>\n",
       "      <th>18</th>\n",
       "      <td>2003</td>\n",
       "      <td>171.308859</td>\n",
       "    </tr>\n",
       "    <tr>\n",
       "      <th>19</th>\n",
       "      <td>2002</td>\n",
       "      <td>170.239688</td>\n",
       "    </tr>\n",
       "    <tr>\n",
       "      <th>20</th>\n",
       "      <td>2005</td>\n",
       "      <td>169.309821</td>\n",
       "    </tr>\n",
       "    <tr>\n",
       "      <th>21</th>\n",
       "      <td>2004</td>\n",
       "      <td>168.888539</td>\n",
       "    </tr>\n",
       "  </tbody>\n",
       "</table>\n",
       "</div>"
      ],
      "text/plain": [
       "    year    avg_fare\n",
       "0   2014  229.424639\n",
       "1   2015  225.543353\n",
       "2   2013  221.298361\n",
       "3   2016  218.515525\n",
       "4   2012  216.981949\n",
       "5   2017  216.357799\n",
       "6   2011  207.904742\n",
       "7   2008  192.035186\n",
       "8   2010  191.297082\n",
       "9   2000  191.165825\n",
       "10  1999  185.052385\n",
       "11  1998  182.710385\n",
       "12  2006  181.807154\n",
       "13  2007  181.206653\n",
       "14  1997  177.023449\n",
       "15  2001  176.350548\n",
       "16  2009  173.419222\n",
       "17  1996  171.694972\n",
       "18  2003  171.308859\n",
       "19  2002  170.239688\n",
       "20  2005  169.309821\n",
       "21  2004  168.888539"
      ]
     },
     "execution_count": 8,
     "metadata": {},
     "output_type": "execute_result"
    }
   ],
   "source": [
    "%%sql\n",
    "WITH AVGFare AS (\n",
    "    SELECT year, AVG(fare) AS 'avg_fare'\n",
    "    FROM airfare\n",
    "    -- Find only the years where we have data in each quarter for a flight\n",
    "    WHERE (city1, city2, year) IN (\n",
    "        SELECT city1, city2, year\n",
    "        FROM airfare\n",
    "        GROUP BY city1, city2, year\n",
    "        HAVING COUNT(*) = 4\n",
    "    )\n",
    "    GROUP BY year\n",
    ")\n",
    "SELECT * FROM AVGFare ORDER BY avg_fare DESC;"
   ]
  },
  {
   "cell_type": "markdown",
   "metadata": {},
   "source": [
    "We can also look back to the earlier question about comparing 1997-2017 to 2007-2017. We can see that the 90's are actually in the middle here for the average fares and there was a bit of a crash in the mid 2000's which may also explain the higher % change from 2007-2017 than expected. Although remember that this is only a subset of the data being analyzed. "
   ]
  }
 ],
 "metadata": {
  "kernelspec": {
   "display_name": ".venv",
   "language": "python",
   "name": "python3"
  },
  "language_info": {
   "codemirror_mode": {
    "name": "ipython",
    "version": 3
   },
   "file_extension": ".py",
   "mimetype": "text/x-python",
   "name": "python",
   "nbconvert_exporter": "python",
   "pygments_lexer": "ipython3",
   "version": "3.12.1"
  }
 },
 "nbformat": 4,
 "nbformat_minor": 2
}
