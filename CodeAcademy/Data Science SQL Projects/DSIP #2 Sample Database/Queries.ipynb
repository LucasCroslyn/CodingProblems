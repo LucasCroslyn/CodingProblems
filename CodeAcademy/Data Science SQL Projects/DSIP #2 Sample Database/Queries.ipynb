{
 "cells": [
  {
   "cell_type": "code",
   "execution_count": null,
   "metadata": {},
   "outputs": [],
   "source": [
    "# Python extension for interfacing with SQL and better table formatting\n",
    "\n",
    "#!pip install ipython-sql\n",
    "#!pip install pandas"
   ]
  },
  {
   "cell_type": "code",
   "execution_count": 4,
   "metadata": {},
   "outputs": [],
   "source": [
    "# Necessary in the Jupyter to load the SQL extension and connect to the database file, currently using SQLite.\n",
    "# Also formatting the SQL query outputs into a better format\n",
    "\n",
    "%load_ext sql\n",
    "%sql sqlite:///chinook.db\n",
    "%config SqlMagic.autopandas=True"
   ]
  },
  {
   "cell_type": "code",
   "execution_count": 7,
   "metadata": {},
   "outputs": [
    {
     "name": "stdout",
     "output_type": "stream",
     "text": [
      " * sqlite:///chinook.db\n",
      "Done.\n"
     ]
    },
    {
     "data": {
      "text/html": [
       "<div>\n",
       "<style scoped>\n",
       "    .dataframe tbody tr th:only-of-type {\n",
       "        vertical-align: middle;\n",
       "    }\n",
       "\n",
       "    .dataframe tbody tr th {\n",
       "        vertical-align: top;\n",
       "    }\n",
       "\n",
       "    .dataframe thead th {\n",
       "        text-align: right;\n",
       "    }\n",
       "</style>\n",
       "<table border=\"1\" class=\"dataframe\">\n",
       "  <thead>\n",
       "    <tr style=\"text-align: right;\">\n",
       "      <th></th>\n",
       "      <th>Song</th>\n",
       "      <th>Album</th>\n",
       "      <th>Genre</th>\n",
       "      <th>Revenue</th>\n",
       "    </tr>\n",
       "  </thead>\n",
       "  <tbody>\n",
       "    <tr>\n",
       "      <th>0</th>\n",
       "      <td>The Woman King</td>\n",
       "      <td>Battlestar Galactica, Season 3</td>\n",
       "      <td>Science Fiction</td>\n",
       "      <td>3.98</td>\n",
       "    </tr>\n",
       "    <tr>\n",
       "      <th>1</th>\n",
       "      <td>The Fix</td>\n",
       "      <td>Heroes, Season 1</td>\n",
       "      <td>Drama</td>\n",
       "      <td>3.98</td>\n",
       "    </tr>\n",
       "    <tr>\n",
       "      <th>2</th>\n",
       "      <td>Walkabout</td>\n",
       "      <td>Lost, Season 1</td>\n",
       "      <td>TV Shows</td>\n",
       "      <td>3.98</td>\n",
       "    </tr>\n",
       "    <tr>\n",
       "      <th>3</th>\n",
       "      <td>Hot Girl</td>\n",
       "      <td>The Office, Season 1</td>\n",
       "      <td>TV Shows</td>\n",
       "      <td>3.98</td>\n",
       "    </tr>\n",
       "    <tr>\n",
       "      <th>4</th>\n",
       "      <td>Gay Witch Hunt</td>\n",
       "      <td>The Office, Season 3</td>\n",
       "      <td>TV Shows</td>\n",
       "      <td>3.98</td>\n",
       "    </tr>\n",
       "  </tbody>\n",
       "</table>\n",
       "</div>"
      ],
      "text/plain": [
       "             Song                           Album            Genre  Revenue\n",
       "0  The Woman King  Battlestar Galactica, Season 3  Science Fiction     3.98\n",
       "1         The Fix                Heroes, Season 1            Drama     3.98\n",
       "2       Walkabout                  Lost, Season 1         TV Shows     3.98\n",
       "3        Hot Girl            The Office, Season 1         TV Shows     3.98\n",
       "4  Gay Witch Hunt            The Office, Season 3         TV Shows     3.98"
      ]
     },
     "execution_count": 7,
     "metadata": {},
     "output_type": "execute_result"
    }
   ],
   "source": [
    "%%sql --quiet\n",
    "SELECT tracks.Name AS `Song`, albums.Title AS `Album`, genres.Name \n",
    "AS `Genre`, SUM(invoice_items.UnitPrice * invoice_items.Quantity) AS Revenue\n",
    "FROM tracks\n",
    "JOIN albums ON tracks.AlbumId = albums.AlbumId\n",
    "JOIN genres ON tracks.GenreId = genres.GenreId\n",
    "JOIN invoice_items ON tracks.TrackId = invoice_items.TrackId\n",
    "GROUP BY tracks.TrackId\n",
    "ORDER BY revenue DESC\n",
    "LIMIT 5;"
   ]
  }
 ],
 "metadata": {
  "kernelspec": {
   "display_name": ".venv",
   "language": "python",
   "name": "python3"
  },
  "language_info": {
   "codemirror_mode": {
    "name": "ipython",
    "version": 3
   },
   "file_extension": ".py",
   "mimetype": "text/x-python",
   "name": "python",
   "nbconvert_exporter": "python",
   "pygments_lexer": "ipython3",
   "version": "3.12.1"
  }
 },
 "nbformat": 4,
 "nbformat_minor": 2
}
